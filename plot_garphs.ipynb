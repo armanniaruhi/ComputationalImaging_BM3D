{
 "cells": [
  {
   "cell_type": "code",
   "execution_count": 1,
   "metadata": {},
   "outputs": [],
   "source": [
    "import os\n",
    "import numpy as np\n",
    "import pandas as pd\n",
    "import matplotlib.pyplot as plt"
   ]
  },
  {
   "cell_type": "code",
   "execution_count": 2,
   "metadata": {},
   "outputs": [],
   "source": [
    "base_dir = os.getcwd()  # Current working directory"
   ]
  },
  {
   "cell_type": "code",
   "execution_count": 3,
   "metadata": {},
   "outputs": [],
   "source": [
    "import matplotlib.pyplot as plt\n",
    "import numpy as np\n",
    "import pandas as pd\n",
    "\n",
    "def plot(y, columns, file_path, save_path):\n",
    "    # Read the Excel file into a DataFrame\n",
    "    df_block = pd.read_excel(file_path)\n",
    "    \n",
    "    # Clean up the DataFrame and select required columns\n",
    "    df_block_cleaned = df_block[[\"Coordinate y\", \"Sigma PSD\", \"Transform 2D\", columns[0], columns[1], \"SNR Mean (dB)\", \"Total Variation\", \"BRISQUE\", \"Clip-IQA\"]]\n",
    "    \n",
    "    # Filter the DataFrame based on the provided 'y' value\n",
    "    df = df_block_cleaned[df_block_cleaned[\"Coordinate y\"] == y] \n",
    "\n",
    "    # Define the scores to plot\n",
    "    scores = [\"SNR Mean (dB)\", \"Total Variation\", \"BRISQUE\", \"Clip-IQA\"]\n",
    "\n",
    "    # Create a 2x2 grid for subplots\n",
    "    fig, axes = plt.subplots(2, 2, figsize=(12, 10))\n",
    "\n",
    "    # Group data by setup\n",
    "    groups = df.groupby([columns[0], columns[1], \"Transform 2D\"])\n",
    "\n",
    "    # Define color maps for the two transformations\n",
    "    colors_dct = plt.cm.Reds(np.linspace(0.7, 1, len(groups)))  # Red color map for dct\n",
    "    colors_bior = plt.cm.Blues(np.linspace(0.7, 1, len(groups)))  # Blue color map for bior1.5\n",
    "\n",
    "    # Iterate over scores and subplots\n",
    "    for i, score in enumerate(scores):\n",
    "        ax = axes[i // 2, i % 2]  # Determine subplot position\n",
    "        blue_handles = []  # List to store blue legend handles\n",
    "        red_handles = []   # List to store red legend handles\n",
    "        blue_labels = []   # List to store blue legend labels\n",
    "        red_labels = []    # List to store red legend labels\n",
    "\n",
    "        for (wiener, ht, Trans2D), group in groups:\n",
    "            if Trans2D == \"dct\":\n",
    "                color = colors_dct[groups.get_group((wiener, ht, Trans2D)).index[0] % len(colors_dct)]\n",
    "                label = f\"T2D={Trans2D}, Wiener={wiener}, HT={ht}\"\n",
    "                line, = ax.plot(group[\"Sigma PSD\"], group[score], marker=\"o\", label=label, color=color)\n",
    "                red_handles.append(line)  # Add handle to red_handles\n",
    "                red_labels.append(label)   # Add label to red_labels\n",
    "            elif Trans2D == \"bior1.5\":\n",
    "                color = colors_bior[groups.get_group((wiener, ht, Trans2D)).index[0] % len(colors_bior)]\n",
    "                label = f\"T2D={Trans2D}, Wiener={wiener}, HT={ht}\"\n",
    "                line, = ax.plot(group[\"Sigma PSD\"], group[score], marker=\"o\", label=label, color=color)\n",
    "                blue_handles.append(line)  # Add handle to blue_handles\n",
    "                blue_labels.append(label)  # Add label to blue_labels\n",
    "        \n",
    "        # Set titles and labels\n",
    "        ax.set_title(score)\n",
    "        ax.set_xlabel(\"Sigma PSD\")\n",
    "        ax.set_ylabel(\"Score\")\n",
    "        ax.grid(True)\n",
    "\n",
    "        # Combine the blue and red legend entries, blue first, then red\n",
    "        handles = blue_handles + red_handles\n",
    "        labels = blue_labels + red_labels\n",
    "        if i == 0:\n",
    "            ax.legend(handles, labels, loc='center left', bbox_to_anchor=(-1.2, 0.5))\n",
    "\n",
    "    # Adjust layout to prevent overlap\n",
    "    plt.tight_layout()\n",
    "\n",
    "    # Save the plot to a file\n",
    "    plt.savefig(save_path)\n",
    "\n",
    "    # Close the figure to prevent it from being displayed\n",
    "    plt.close(fig)\n"
   ]
  },
  {
   "cell_type": "markdown",
   "metadata": {},
   "source": [
    "# Plot the results"
   ]
  },
  {
   "cell_type": "code",
   "execution_count": 4,
   "metadata": {},
   "outputs": [],
   "source": [
    "file_path = f\"{base_dir}/Results/Leech results/Threshold_Hard_Wiener/results_data_Threshold_Hard_Wiener.xlsx\"\n",
    "for y in range(15,23):\n",
    "    save_path = f\"{base_dir}/Results/Leech results/Threshold_Hard_Wiener/{y}_result_plot.png\"\n",
    "    plot(y, [\"Tau Match\", \"Tau Match Wiener\"],file_path, save_path)"
   ]
  },
  {
   "cell_type": "code",
   "execution_count": 5,
   "metadata": {},
   "outputs": [],
   "source": [
    "file_path = f\"{base_dir}/Results/resTarget results/Patch_Size/results_data_Patch_Size.xlsx\"\n",
    "for y in range(15,23):\n",
    "    save_path = f\"{base_dir}/Results/resTarget results/Patch_Size/{y}_result_plot.png\"\n",
    "    plot(y, [\"Block Size HT\", \"Block Size Wiener\"], file_path, save_path)\n"
   ]
  }
 ],
 "metadata": {
  "kernelspec": {
   "display_name": "Python 3",
   "language": "python",
   "name": "python3"
  },
  "language_info": {
   "codemirror_mode": {
    "name": "ipython",
    "version": 3
   },
   "file_extension": ".py",
   "mimetype": "text/x-python",
   "name": "python",
   "nbconvert_exporter": "python",
   "pygments_lexer": "ipython3",
   "version": "3.12.4"
  }
 },
 "nbformat": 4,
 "nbformat_minor": 2
}
