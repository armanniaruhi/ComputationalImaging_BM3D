{
 "cells": [
  {
   "cell_type": "markdown",
   "metadata": {},
   "source": [
    "# Import Libraries"
   ]
  },
  {
   "cell_type": "code",
   "execution_count": 11,
   "metadata": {},
   "outputs": [],
   "source": [
    "import cv2\n",
    "from scipy.fftpack import dct, idct\n",
    "import numpy as np\n",
    "from skimage import io, img_as_float\n",
    "from skimage.util import random_noise\n",
    "import numpy as np\n",
    "import bm3d\n",
    "from skimage.metrics import peak_signal_noise_ratio as psnr"
   ]
  },
  {
   "cell_type": "markdown",
   "metadata": {},
   "source": [
    "# Add Noise to Images"
   ]
  },
  {
   "cell_type": "code",
   "execution_count": 12,
   "metadata": {},
   "outputs": [],
   "source": [
    "img = img_as_float(io.imread('/home/arman/Documents/arman/Uni/Master/Semester 3/ip_repository/ImageProcessing/Dataset/train/007_img.png', as_gray=True))\n",
    "# noisy_img = random_noise(img, mode='s&p', amount=0.32) \n",
    "noisy_img = random_noise(img, mode='gaussian', mean=0, var=0.01)  \n",
    "# noisy_img = random_noise(img, mode='poisson')\n",
    "#noisy_img= random_noise(noisy_img, mode='speckle', var=0.5) "
   ]
  },
  {
   "cell_type": "markdown",
   "metadata": {},
   "source": [
    "# From skimage"
   ]
  },
  {
   "cell_type": "code",
   "execution_count": 13,
   "metadata": {},
   "outputs": [
    {
     "name": "stdout",
     "output_type": "stream",
     "text": [
      "\n",
      "Best Sigma PSD: 0.10\n",
      "Best PSNR: 30.31 dB\n"
     ]
    }
   ],
   "source": [
    "\n",
    "# Define grid of sigma_psd values to search\n",
    "sigma_psd_values = [0.05,0.1,0.15, 0.2,0.3,0.4]\n",
    "\n",
    "# Variables to store the best results\n",
    "best_sigma_psd = None\n",
    "best_psnr = -np.inf\n",
    "best_denoised_img = None\n",
    "\n",
    "# Perform grid search\n",
    "for sigma_psd in sigma_psd_values:\n",
    "    # Apply BM3D denoising\n",
    "    denoised_img = bm3d.bm3d(noisy_img, sigma_psd=sigma_psd, profile='np', stage_arg=bm3d.BM3DStages.ALL_STAGES)\n",
    "    \n",
    "    # Calculate PSNR for denoised image\n",
    "    psnr_denoised = psnr(img, denoised_img)\n",
    "    # Update the best result\n",
    "    if psnr_denoised > best_psnr:\n",
    "        best_psnr = psnr_denoised\n",
    "        best_sigma_psd = sigma_psd\n",
    "        best_denoised_img = denoised_img\n",
    "\n",
    "# Display the results\n",
    "print(f\"\\nBest Sigma PSD: {best_sigma_psd:.2f}\")\n",
    "print(f\"Best PSNR: {best_psnr:.2f} dB\")\n",
    "\n",
    "# Show the original, noisy, and best denoised images\n",
    "cv2.imshow(\"Noisy Image\", noisy_img)\n",
    "cv2.imshow(\"Best Denoised Image\", best_denoised_img)\n",
    "cv2.waitKey(0)\n",
    "cv2.destroyAllWindows()"
   ]
  },
  {
   "cell_type": "markdown",
   "metadata": {},
   "source": [
    "# Our own"
   ]
  },
  {
   "cell_type": "markdown",
   "metadata": {},
   "source": [
    "Parameters initialization"
   ]
  },
  {
   "cell_type": "code",
   "execution_count": null,
   "metadata": {},
   "outputs": [],
   "source": [
    "\n",
    "sigma = 40  # variance of the noise\n",
    "lamb2d = 2.0\n",
    "lamb3d = 2.7\n",
    "Step1_ThreDist = 2500  # threshold distance\n",
    "Step1_MaxMatch = 16  # max matched blocks\n",
    "Step1_BlockSize = 20\n",
    "Step1_spdup_factor = 3  # pixel jump for new reference block\n",
    "Step1_WindowSize = 39  # search window size\n",
    "Step2_ThreDist = 400\n",
    "Step2_MaxMatch = 32\n",
    "Step2_BlockSize = 20\n",
    "Step2_spdup_factor = 3\n",
    "Step2_WindowSize = 39\n",
    "Kaiser_Window_beta = 2.0"
   ]
  },
  {
   "cell_type": "code",
   "execution_count": 38,
   "metadata": {},
   "outputs": [],
   "source": [
    "def Initialization(Img, BlockSize, Kaiser_Window_beta):\n",
    "    InitImg = np.zeros(Img.shape, dtype=float)\n",
    "    InitWeight = np.zeros(Img.shape, dtype=float)\n",
    "    Window = np.matrix(np.kaiser(BlockSize, Kaiser_Window_beta))\n",
    "    InitKaiser = np.array(Window.T * Window)\n",
    "    return InitImg, InitWeight, InitKaiser"
   ]
  },
  {
   "cell_type": "code",
   "execution_count": 4,
   "metadata": {},
   "outputs": [],
   "source": [
    "def SearchWindow(Img, RefPoint, BlockSize, WindowSize):\n",
    "    if BlockSize >= WindowSize:\n",
    "        print(\"Error: BlockSize is smaller than WindowSize.\\n\")\n",
    "        exit()\n",
    "    Margin = np.zeros((2, 2), dtype=int)\n",
    "    Margin[0, 0] = max(0, RefPoint[0] + int((BlockSize - WindowSize) / 2))  # left-top x\n",
    "    Margin[0, 1] = max(0, RefPoint[1] + int((BlockSize - WindowSize) / 2))  # left-top y\n",
    "    Margin[1, 0] = Margin[0, 0] + WindowSize  # right-bottom x\n",
    "    Margin[1, 1] = Margin[0, 1] + WindowSize  # right-bottom y\n",
    "    if Margin[1, 0] >= Img.shape[0]:\n",
    "        Margin[1, 0] = Img.shape[0] - 1\n",
    "        Margin[0, 0] = Margin[1, 0] - WindowSize\n",
    "    if Margin[1, 1] >= Img.shape[1]:\n",
    "        Margin[1, 1] = Img.shape[1] - 1\n",
    "        Margin[0, 1] = Margin[1, 1] - WindowSize\n",
    "    return Margin"
   ]
  },
  {
   "cell_type": "code",
   "execution_count": 40,
   "metadata": {},
   "outputs": [],
   "source": [
    "def dct2D(A):\n",
    "    return dct(dct(A, axis=0, norm=\"ortho\"), axis=1, norm=\"ortho\")\n",
    "def idct2D(A):\n",
    "    return idct(idct(A, axis=0, norm=\"ortho\"), axis=1, norm=\"ortho\")"
   ]
  },
  {
   "cell_type": "code",
   "execution_count": 41,
   "metadata": {},
   "outputs": [],
   "source": [
    "def PreDCT(Img, BlockSize):\n",
    "    BlockDCT_all = np.zeros(\n",
    "        (Img.shape[0] - BlockSize, Img.shape[1] - BlockSize, BlockSize, BlockSize),\n",
    "        dtype=float)\n",
    "    for i in range(BlockDCT_all.shape[0]):\n",
    "        for j in range(BlockDCT_all.shape[1]):\n",
    "            Block = Img[i : i + BlockSize, j : j + BlockSize]\n",
    "            BlockDCT_all[i, j, :, :] = dct2D(Block.astype(np.float64))\n",
    "    return BlockDCT_all"
   ]
  },
  {
   "cell_type": "code",
   "execution_count": 42,
   "metadata": {},
   "outputs": [],
   "source": [
    "def ComputePSNR(Img1, Img2):\n",
    "    Img1 = Img1.astype(np.float64)\n",
    "    Img2 = Img2.astype(np.float64)\n",
    "    RMSE = np.sqrt(np.sum((Img1 - Img2) ** 2) / Img1.size)\n",
    "    return 20 * np.log10(255.0 / RMSE)"
   ]
  },
  {
   "cell_type": "code",
   "execution_count": 43,
   "metadata": {},
   "outputs": [],
   "source": [
    "def Step1_ComputeDist(BlockDCT1, BlockDCT2):\n",
    "    BlockSize = BlockDCT1.shape[0]\n",
    "    if sigma > 40:\n",
    "        ThreValue = lamb2d * sigma\n",
    "        BlockDCT1 = np.where(abs(BlockDCT1) < ThreValue, 0, BlockDCT1)\n",
    "        BlockDCT2 = np.where(abs(BlockDCT2) < ThreValue, 0, BlockDCT2)\n",
    "    return np.linalg.norm(BlockDCT1 - BlockDCT2) ** 2 / (BlockSize**2)"
   ]
  },
  {
   "cell_type": "code",
   "execution_count": 44,
   "metadata": {},
   "outputs": [],
   "source": [
    "def Step1_Grouping(\n",
    "    noisyImg, RefPoint, BlockDCT_all, BlockSize, ThreDist, MaxMatch, WindowSize\n",
    "):\n",
    "    WindowLoc = SearchWindow(noisyImg, RefPoint, BlockSize, WindowSize)\n",
    "    Block_Num_Searched = (WindowSize - BlockSize + 1) ** 2  # number of searched blocks\n",
    "    BlockPos = np.zeros((Block_Num_Searched, 2), dtype=int)\n",
    "    BlockGroup = np.zeros((Block_Num_Searched, BlockSize, BlockSize), dtype=float)\n",
    "    Dist = np.zeros(Block_Num_Searched, dtype=float)\n",
    "    RefDCT = BlockDCT_all[RefPoint[0], RefPoint[1], :, :]\n",
    "    match_cnt = 0\n",
    "    for i in range(WindowSize - BlockSize + 1):\n",
    "        for j in range(WindowSize - BlockSize + 1):\n",
    "            SearchedDCT = BlockDCT_all[WindowLoc[0, 0] + i, WindowLoc[0, 1] + j, :, :]\n",
    "            dist = Step1_ComputeDist(RefDCT, SearchedDCT)\n",
    "            if dist < ThreDist:\n",
    "                BlockPos[match_cnt, :] = [WindowLoc[0, 0] + i, WindowLoc[0, 1] + j]\n",
    "                BlockGroup[match_cnt, :, :] = SearchedDCT\n",
    "                Dist[match_cnt] = dist\n",
    "                match_cnt += 1\n",
    "    if match_cnt <= MaxMatch:\n",
    "        BlockPos = BlockPos[:match_cnt, :]\n",
    "        BlockGroup = BlockGroup[:match_cnt, :, :]\n",
    "\n",
    "    else:\n",
    "        idx = np.argpartition(\n",
    "            Dist[:match_cnt], MaxMatch\n",
    "        )  # indices of MaxMatch smallest distances\n",
    "        BlockPos = BlockPos[idx[:MaxMatch], :]\n",
    "        BlockGroup = BlockGroup[idx[:MaxMatch], :]\n",
    "    return BlockPos, BlockGroup"
   ]
  },
  {
   "cell_type": "code",
   "execution_count": 10,
   "metadata": {},
   "outputs": [],
   "source": [
    "def Step1_3DFiltering(BlockGroup):\n",
    "    ThreValue = lamb3d * sigma\n",
    "    nonzero_cnt = 0\n",
    "    for i in range(BlockGroup.shape[1]):\n",
    "        for j in range(BlockGroup.shape[2]):\n",
    "            ThirdVector = dct(BlockGroup[:, i, j], norm=\"ortho\")  # 1D DCT\n",
    "            ThirdVector[abs(ThirdVector[:]) < ThreValue] = 0.0\n",
    "            nonzero_cnt += np.nonzero(ThirdVector)[0].size\n",
    "            BlockGroup[:, i, j] = list(idct(ThirdVector, norm=\"ortho\"))\n",
    "    return BlockGroup, nonzero_cnt"
   ]
  },
  {
   "cell_type": "code",
   "execution_count": null,
   "metadata": {},
   "outputs": [],
   "source": [
    "def Step1_Aggregation(\n",
    "    BlockGroup, BlockPos, basicImg, basicWeight, basicKaiser, nonzero_cnt\n",
    "):\n",
    "    if nonzero_cnt < 1:\n",
    "        BlockWeight = 1.0 * basicKaiser\n",
    "    else:\n",
    "        BlockWeight = (1.0 / (sigma**2 * nonzero_cnt)) * basicKaiser\n",
    "\n",
    "    for i in range(BlockPos.shape[0]):\n",
    "        basicImg[\n",
    "            BlockPos[i, 0] : BlockPos[i, 0] + BlockGroup.shape[1],\n",
    "            BlockPos[i, 1] : BlockPos[i, 1] + BlockGroup.shape[2],\n",
    "        ] += BlockWeight * idct2D(BlockGroup[i, :, :])\n",
    "\n",
    "        basicWeight[\n",
    "            BlockPos[i, 0] : BlockPos[i, 0] + BlockGroup.shape[1],\n",
    "            BlockPos[i, 1] : BlockPos[i, 1] + BlockGroup.shape[2],\n",
    "        ] += BlockWeight"
   ]
  },
  {
   "cell_type": "code",
   "execution_count": 12,
   "metadata": {},
   "outputs": [],
   "source": [
    "def BM3D_Step1(noisyImg):\n",
    "    BlockSize = Step1_BlockSize\n",
    "    ThreDist = Step1_ThreDist\n",
    "    MaxMatch = Step1_MaxMatch\n",
    "    WindowSize = Step1_WindowSize\n",
    "    spdup_factor = Step1_spdup_factor\n",
    "    basicImg, basicWeight, basicKaiser = Initialization(\n",
    "        noisyImg, BlockSize, Kaiser_Window_beta\n",
    "    )\n",
    "\n",
    "    BlockDCT_all = PreDCT(noisyImg, BlockSize)\n",
    "    # block-wise estimate with speed-up factor\n",
    "\n",
    "    for i in range(int((noisyImg.shape[0] - BlockSize) / spdup_factor) + 2):\n",
    "        for j in range(int((noisyImg.shape[1] - BlockSize) / spdup_factor) + 2):\n",
    "            RefPoint = [\n",
    "                min(spdup_factor * i, noisyImg.shape[0] - BlockSize - 1),\n",
    "                min(spdup_factor * j, noisyImg.shape[1] - BlockSize - 1),\n",
    "            ]\n",
    "            BlockPos, BlockGroup = Step1_Grouping(\n",
    "                noisyImg,\n",
    "                RefPoint,\n",
    "                BlockDCT_all,\n",
    "                BlockSize,\n",
    "                ThreDist,\n",
    "                MaxMatch,\n",
    "                WindowSize)\n",
    "\n",
    "            BlockGroup, nonzero_cnt = Step1_3DFiltering(BlockGroup)\n",
    "\n",
    "            Step1_Aggregation(\n",
    "                BlockGroup, BlockPos, basicImg, basicWeight, basicKaiser, nonzero_cnt\n",
    "            )\n",
    "    basicWeight = np.where(basicWeight == 0, 1, basicWeight)\n",
    "    basicImg[:, :] /= basicWeight[:, :]\n",
    "    return basicImg"
   ]
  },
  {
   "cell_type": "code",
   "execution_count": 21,
   "metadata": {},
   "outputs": [],
   "source": [
    "def AddNoise(Img, sigma):\n",
    "    GuassNoise = np.random.normal(0, sigma, Img.shape)\n",
    "    noisyImg = Img + GuassNoise  # float type noisy image\n",
    "    return noisyImg"
   ]
  },
  {
   "cell_type": "code",
   "execution_count": 22,
   "metadata": {},
   "outputs": [
    {
     "data": {
      "text/plain": [
       "True"
      ]
     },
     "execution_count": 22,
     "metadata": {},
     "output_type": "execute_result"
    }
   ],
   "source": [
    "cv2.setUseOptimized(True)\n",
    "img = cv2.imread(\n",
    "    \"/home/arman/Documents/arman/Uni/Master/Semester 3/ip_repository/ImageProcessing/Dataset/train/007_img.png\"\n",
    ")\n",
    "img = cv2.cvtColor(img, cv2.COLOR_BGR2GRAY)\n",
    "# ============================================ BM3D =============================================\n",
    "noisy_img = AddNoise(img, sigma)\n",
    "cv2.imwrite(\"noisy.png\", noisy_img)"
   ]
  },
  {
   "cell_type": "code",
   "execution_count": 45,
   "metadata": {},
   "outputs": [],
   "source": [
    "basic_img = BM3D_Step1(noisy_img)"
   ]
  },
  {
   "cell_type": "code",
   "execution_count": 27,
   "metadata": {},
   "outputs": [
    {
     "data": {
      "text/plain": [
       "np.float64(27.016004660922768)"
      ]
     },
     "execution_count": 27,
     "metadata": {},
     "output_type": "execute_result"
    }
   ],
   "source": [
    "ComputePSNR(img, basic_img)"
   ]
  },
  {
   "cell_type": "code",
   "execution_count": 28,
   "metadata": {},
   "outputs": [
    {
     "data": {
      "text/plain": [
       "True"
      ]
     },
     "execution_count": 28,
     "metadata": {},
     "output_type": "execute_result"
    }
   ],
   "source": [
    "basic_img_uint = np.zeros(img.shape)\n",
    "cv2.normalize(basic_img, basic_img_uint, 0, 255, cv2.NORM_MINMAX, dtype=-1).astype(np.uint8)\n",
    "cv2.imwrite(\"basicdog.png\", basic_img_uint)"
   ]
  },
  {
   "cell_type": "markdown",
   "metadata": {},
   "source": [
    "# Final"
   ]
  },
  {
   "cell_type": "code",
   "execution_count": 29,
   "metadata": {},
   "outputs": [],
   "source": [
    "def Step2_ComputeDist(img, Point1, Point2, BlockSize):\n",
    "    return np.linalg.norm(\n",
    "    img[Point1[0]:Point1[0]+BlockSize, Point1[1]:Point1[1]+BlockSize].astype(np.float64) - \n",
    "    img[Point2[0]:Point2[0]+BlockSize, Point2[1]:Point2[1]+BlockSize].astype(np.float64)) ** 2 / (BlockSize ** 2)\n"
   ]
  },
  {
   "cell_type": "code",
   "execution_count": 30,
   "metadata": {},
   "outputs": [],
   "source": [
    "def Step2_Grouping(\n",
    "    basicImg,\n",
    "    noisyImg,\n",
    "    RefPoint,\n",
    "    BlockSize,\n",
    "    ThreDist,\n",
    "    MaxMatch,\n",
    "    WindowSize,\n",
    "    BlockDCT_basic,\n",
    "    BlockDCT_noisy,\n",
    "):\n",
    "    WindowLoc = SearchWindow(basicImg, RefPoint, BlockSize, WindowSize)\n",
    "    Block_Num_Searched = (WindowSize - BlockSize + 1) ** 2\n",
    "    BlockPos = np.zeros((Block_Num_Searched, 2), dtype=int)\n",
    "    BlockGroup_basic = np.zeros((Block_Num_Searched, BlockSize, BlockSize), dtype=float)\n",
    "    BlockGroup_noisy = np.zeros((Block_Num_Searched, BlockSize, BlockSize), dtype=float)\n",
    "    Dist = np.zeros(Block_Num_Searched, dtype=float)\n",
    "    match_cnt = 0\n",
    "    for i in range(WindowSize - BlockSize + 1):\n",
    "        for j in range(WindowSize - BlockSize + 1):\n",
    "            SearchedPoint = [WindowLoc[0, 0] + i, WindowLoc[0, 1] + j]\n",
    "            dist = Step2_ComputeDist(basicImg, RefPoint, SearchedPoint, BlockSize)\n",
    "            if dist < ThreDist:\n",
    "                BlockPos[match_cnt, :] = SearchedPoint\n",
    "                Dist[match_cnt] = dist\n",
    "                match_cnt += 1\n",
    "\n",
    "    if match_cnt <= MaxMatch:\n",
    "        BlockPos = BlockPos[:match_cnt, :]\n",
    "\n",
    "    else:\n",
    "        idx = np.argpartition(\n",
    "            Dist[:match_cnt], MaxMatch\n",
    "        )\n",
    "        BlockPos = BlockPos[idx[:MaxMatch], :]\n",
    "    for i in range(BlockPos.shape[0]):\n",
    "        SimilarPoint = BlockPos[i, :]\n",
    "        BlockGroup_basic[i, :, :] = BlockDCT_basic[\n",
    "            SimilarPoint[0], SimilarPoint[1], :, :\n",
    "        ]\n",
    "        BlockGroup_noisy[i, :, :] = BlockDCT_noisy[\n",
    "            SimilarPoint[0], SimilarPoint[1], :, :\n",
    "        ]\n",
    "    BlockGroup_basic = BlockGroup_basic[: BlockPos.shape[0], :, :]\n",
    "    BlockGroup_noisy = BlockGroup_noisy[: BlockPos.shape[0], :, :]\n",
    "    return BlockPos, BlockGroup_basic, BlockGroup_noisy"
   ]
  },
  {
   "cell_type": "code",
   "execution_count": 31,
   "metadata": {},
   "outputs": [],
   "source": [
    "def Step2_3DFiltering(BlockGroup_basic, BlockGroup_noisy):\n",
    "    Weight = 0\n",
    "    coef = 1.0 / BlockGroup_noisy.shape[0]\n",
    "    for i in range(BlockGroup_noisy.shape[1]):\n",
    "        for j in range(BlockGroup_noisy.shape[2]):\n",
    "            Vec_basic = dct(BlockGroup_basic[:, i, j], norm=\"ortho\")\n",
    "            Vec_noisy = dct(BlockGroup_noisy[:, i, j], norm=\"ortho\")\n",
    "            Vec_value = Vec_basic**2 * coef\n",
    "            Vec_value /= Vec_value + sigma**2  # pixel weight\n",
    "            Vec_noisy *= Vec_value\n",
    "            Weight += np.sum(Vec_value)\n",
    "            BlockGroup_noisy[:, i, j] = list(idct(Vec_noisy, norm=\"ortho\"))\n",
    "    WienerWeight = 1.0 / (sigma ** 2 * Weight) if Weight > 0 else 1.0\n",
    "    return BlockGroup_noisy, WienerWeight"
   ]
  },
  {
   "cell_type": "code",
   "execution_count": 32,
   "metadata": {},
   "outputs": [],
   "source": [
    "def Step2_Aggregation(BlockGroup_noisy, WienerWeight, BlockPos, finalImg, finalWeight, finalKaiser):\n",
    "    BlockWeight = WienerWeight * finalKaiser\n",
    "    for i in range(BlockPos.shape[0]):\n",
    "        x, y = BlockPos[i]\n",
    "        h, w = BlockGroup_noisy.shape[1:3]\n",
    "        finalImg[x:x+h, y:y+w] += BlockWeight * idct2D(BlockGroup_noisy[i])\n",
    "        finalWeight[x:x+h, y:y+w] += BlockWeight"
   ]
  },
  {
   "cell_type": "code",
   "execution_count": 33,
   "metadata": {},
   "outputs": [],
   "source": [
    "def BM3D_Step2(basicImg, noisyImg):\n",
    "    BlockSize = Step2_BlockSize\n",
    "    ThreDist = Step2_ThreDist\n",
    "    MaxMatch = Step2_MaxMatch\n",
    "    WindowSize = Step2_WindowSize\n",
    "    spdup_factor = Step2_spdup_factor\n",
    "    finalImg, finalWeight, finalKaiser = Initialization(basicImg, BlockSize, Kaiser_Window_beta)\n",
    "    BlockDCT_noisy = PreDCT(noisyImg, BlockSize)\n",
    "    BlockDCT_basic = PreDCT(basicImg, BlockSize)\n",
    "    for i in range(int((basicImg.shape[0] - BlockSize) / spdup_factor) + 2):\n",
    "        for j in range(int((basicImg.shape[1] - BlockSize) / spdup_factor) + 2):\n",
    "            RefPoint = [\n",
    "                min(spdup_factor * i, basicImg.shape[0] - BlockSize - 1),\n",
    "                min(spdup_factor * j, basicImg.shape[1] - BlockSize - 1),\n",
    "            ]\n",
    "\n",
    "            BlockPos, BlockGroup_basic, BlockGroup_noisy = Step2_Grouping(\n",
    "                basicImg,\n",
    "                noisyImg,\n",
    "                RefPoint,\n",
    "                BlockSize,\n",
    "                ThreDist,\n",
    "                MaxMatch,\n",
    "                WindowSize,\n",
    "                BlockDCT_basic,\n",
    "                BlockDCT_noisy,\n",
    "            )\n",
    "\n",
    "            BlockGroup_noisy, WienerWeight = Step2_3DFiltering(\n",
    "                BlockGroup_basic, BlockGroup_noisy\n",
    "            )\n",
    "\n",
    "            Step2_Aggregation(\n",
    "                BlockGroup_noisy,\n",
    "                WienerWeight,\n",
    "                BlockPos,\n",
    "                finalImg,\n",
    "                finalWeight,\n",
    "                finalKaiser,\n",
    "            )\n",
    "    finalWeight = np.where(finalWeight == 0, 1, finalWeight)\n",
    "    finalImg[:, :] /= finalWeight[:, :]\n",
    "    return finalImg"
   ]
  },
  {
   "cell_type": "code",
   "execution_count": 34,
   "metadata": {},
   "outputs": [],
   "source": [
    "final_img = BM3D_Step2(basic_img, noisy_img)"
   ]
  },
  {
   "cell_type": "code",
   "execution_count": 35,
   "metadata": {},
   "outputs": [
    {
     "data": {
      "text/plain": [
       "True"
      ]
     },
     "execution_count": 35,
     "metadata": {},
     "output_type": "execute_result"
    }
   ],
   "source": [
    "final_PSNR = ComputePSNR(img, final_img)\n",
    "cv2.normalize(final_img, final_img, 0, 255, cv2.NORM_MINMAX, dtype=-1)\n",
    "final_img = final_img.astype(np.uint8)\n",
    "cv2.imwrite(\"finaldog.png\", final_img)"
   ]
  }
 ],
 "metadata": {
  "kernelspec": {
   "display_name": "DL",
   "language": "python",
   "name": "python3"
  },
  "language_info": {
   "codemirror_mode": {
    "name": "ipython",
    "version": 3
   },
   "file_extension": ".py",
   "mimetype": "text/x-python",
   "name": "python",
   "nbconvert_exporter": "python",
   "pygments_lexer": "ipython3",
   "version": "3.12.4"
  }
 },
 "nbformat": 4,
 "nbformat_minor": 2
}
