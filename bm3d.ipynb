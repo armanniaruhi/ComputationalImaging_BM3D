{
 "cells": [
  {
   "cell_type": "markdown",
   "metadata": {},
   "source": [
    "# Import Libraries"
   ]
  },
  {
   "cell_type": "markdown",
   "metadata": {},
   "source": [
    "# Import .exr file"
   ]
  },
  {
   "cell_type": "code",
   "execution_count": 1,
   "metadata": {
    "ExecuteTime": {
     "end_time": "2025-01-16T10:49:32.994636Z",
     "start_time": "2025-01-16T10:49:32.979648Z"
    }
   },
   "outputs": [],
   "source": [
    "import os\n",
    "import cv2\n",
    "import numpy as np\n",
    "import torch\n",
    "import bm3d\n",
    "from bm3d import bm3d, BM3DStages\n",
    "import bm3d.profiles as profiles\n",
    "import OpenEXR\n",
    "import Imath\n",
    "import math\n",
    "import itertools\n",
    "import pandas as pd\n",
    "import time\n",
    "import warnings\n",
    "from tqdm import tqdm"
   ]
  },
  {
   "cell_type": "code",
   "execution_count": 2,
   "metadata": {
    "ExecuteTime": {
     "end_time": "2025-01-16T10:49:35.204210Z",
     "start_time": "2025-01-16T10:49:35.191242Z"
    }
   },
   "outputs": [],
   "source": [
    "base_dir = os.getcwd()  # Current working directory"
   ]
  },
  {
   "cell_type": "code",
   "execution_count": 3,
   "metadata": {
    "ExecuteTime": {
     "end_time": "2025-01-16T10:49:37.224123Z",
     "start_time": "2025-01-16T10:49:37.210133Z"
    }
   },
   "outputs": [],
   "source": [
    "def process_exr(file_path):\n",
    "    \"\"\"\n",
    "    Processes an EXR file by loading its data, adjusting exposure and gamma,\n",
    "    and optionally displaying the original and adjusted images.\n",
    "\n",
    "    Parameters:\n",
    "        file_path (str): Path to the EXR file.\n",
    "        ev (float): Exposure value to adjust brightness. Positive increases, negative decreases.\n",
    "        gamma (float): Gamma correction value for gamma correction.\n",
    "        plot_images (bool): If True, displays the original and adjusted images.\n",
    "\n",
    "    Returns:\n",
    "        tuple: (noisy_img, noisy_img_adjusted), where:\n",
    "               - noisy_img is the original HDR image as a NumPy array.\n",
    "               - noisy_img_adjusted is the adjusted image.\n",
    "    \"\"\"\n",
    "    # Open the EXR file\n",
    "    exr_file = OpenEXR.InputFile(file_path)\n",
    "\n",
    "    # Get the header and dimensions\n",
    "    header = exr_file.header()\n",
    "    dw = header['dataWindow']\n",
    "    width = dw.max.x - dw.min.x + 1\n",
    "    height = dw.max.y - dw.min.y + 1\n",
    "\n",
    "    # Channels to extract\n",
    "    channels = ['R', 'G', 'B']\n",
    "\n",
    "    # Determine pixel type\n",
    "    pixel_type = Imath.PixelType(Imath.PixelType.HALF)\n",
    "\n",
    "    # Allocate memory and load channels\n",
    "    img = np.empty((height, width, len(channels)), dtype=np.float16)\n",
    "    for i, channel in enumerate(channels):\n",
    "        raw_data = exr_file.channel(channel, pixel_type)\n",
    "        img[:, :, i] = np.frombuffer(raw_data, dtype=np.float16).reshape(height, width)\n",
    "\n",
    "    # Convert to float32 for processing\n",
    "    noisy_img = img.astype(np.float32)\n",
    "\n",
    "    return noisy_img\n"
   ]
  },
  {
   "cell_type": "code",
   "execution_count": 4,
   "metadata": {
    "ExecuteTime": {
     "end_time": "2025-01-16T10:49:40.092133Z",
     "start_time": "2025-01-16T10:49:40.080165Z"
    }
   },
   "outputs": [],
   "source": [
    "def adjust_gamma(image, gamma=1.0):\n",
    "    \"\"\"\n",
    "    Adjust the gamma of an image.\n",
    "    \n",
    "    Args:\n",
    "        image (numpy.ndarray): Input image.\n",
    "        gamma (float): Gamma value to apply.\n",
    "    \n",
    "    Returns:\n",
    "        numpy.ndarray: Gamma-adjusted image.\n",
    "    \"\"\"\n",
    "    # Build a lookup table mapping pixel values [0, 255] to adjusted values\n",
    "    invGamma = 1.0 / gamma\n",
    "    table = np.array([((i / 255.0) ** invGamma) * 255 for i in np.arange(0, 256)]).astype(\"uint8\")\n",
    "    # Apply gamma correction using the lookup table\n",
    "    return cv2.LUT(image, table)"
   ]
  },
  {
   "cell_type": "code",
   "execution_count": 5,
   "metadata": {
    "ExecuteTime": {
     "end_time": "2025-01-16T10:49:42.151187Z",
     "start_time": "2025-01-16T10:49:42.140179Z"
    }
   },
   "outputs": [],
   "source": [
    "def calculate_snr(image_3channel):\n",
    "    \"\"\"Calculate SNR (Signal-to-Noise Ratio) in decibels using mean and max-min methods.\"\"\"\n",
    "    # Initialize lists for SNR per channel\n",
    "    snr_mean_per_channel = []\n",
    "    snr_max_min_per_channel = []\n",
    "\n",
    "    for channel in range(image_3channel.shape[2]):\n",
    "        channel_data = image_3channel[:, :, channel]\n",
    "        \n",
    "        # Signal using max-min\n",
    "        signal_max_min = channel_data.max() - channel_data.min()\n",
    "        \n",
    "        # Signal using mean\n",
    "        signal_mean = np.mean(channel_data)\n",
    "        \n",
    "        # Noise (Standard deviation)\n",
    "        noise = np.std(channel_data)\n",
    "        \n",
    "        # SNR using max-min and mean methods\n",
    "        snr_max_min = signal_max_min / noise\n",
    "        snr_mean = signal_mean / noise\n",
    "        \n",
    "        # Append to respective lists\n",
    "        snr_max_min_per_channel.append(snr_max_min)\n",
    "        snr_mean_per_channel.append(snr_mean)\n",
    "\n",
    "    # Compute overall SNR for max-min and mean methods\n",
    "    overall_snr_max_min = np.mean(snr_max_min_per_channel)\n",
    "    overall_snr_mean = np.mean(snr_mean_per_channel)\n",
    "\n",
    "    # Convert to decibels\n",
    "    snr_max_min_db = 20 * math.log(overall_snr_max_min, 10)\n",
    "    snr_mean_db = 20 * math.log(overall_snr_mean, 10)\n",
    "\n",
    "    return snr_max_min_db, snr_mean_db\n"
   ]
  },
  {
   "cell_type": "code",
   "execution_count": 6,
   "metadata": {
    "ExecuteTime": {
     "end_time": "2025-01-16T10:49:44.971372Z",
     "start_time": "2025-01-16T10:49:44.959410Z"
    }
   },
   "outputs": [],
   "source": [
    "# Convert the NumPy array to a PyTorch tensor\n",
    "def numpy_to_torch(img_np):\n",
    "    # Ensure the dimensions are in the format [Channels, Height, Width]\n",
    "    if len(img_np.shape) == 2:  # Grayscale image\n",
    "        img_tensor = torch.tensor(img_np, dtype=torch.float32).unsqueeze(0)  # Add channel dimension\n",
    "    else:  # Color image\n",
    "        img_tensor = torch.tensor(img_np, dtype=torch.float32).permute(2, 0, 1).to(device)  # Rearrange dimensions\n",
    "\n",
    "    # Normalize the tensor values to [0, 1] (optional, depending on your use case)\n",
    "    img_tensor = torch.clamp(img_tensor, min=0)\n",
    "    img_tensor /= 255.0\n",
    "    img_tensor = img_tensor.unsqueeze(0)\n",
    "    img_tensor.requires_grad = True\n",
    "    \n",
    "    return img_tensor"
   ]
  },
  {
   "cell_type": "markdown",
   "metadata": {},
   "source": [
    "# Libraries for No Reference Metrics"
   ]
  },
  {
   "cell_type": "code",
   "execution_count": 7,
   "metadata": {
    "ExecuteTime": {
     "end_time": "2025-01-16T10:49:48.547860Z",
     "start_time": "2025-01-16T10:49:47.076823Z"
    }
   },
   "outputs": [],
   "source": [
    "%%capture\n",
    "%pip install lpips"
   ]
  },
  {
   "cell_type": "code",
   "execution_count": 8,
   "metadata": {
    "ExecuteTime": {
     "end_time": "2025-01-16T10:49:50.851851Z",
     "start_time": "2025-01-16T10:49:49.588441Z"
    }
   },
   "outputs": [],
   "source": [
    "from piq import BRISQUELoss, TVLoss, CLIPIQA\n",
    "import lpips"
   ]
  },
  {
   "cell_type": "code",
   "execution_count": 9,
   "metadata": {
    "ExecuteTime": {
     "end_time": "2025-01-16T10:49:51.122641Z",
     "start_time": "2025-01-16T10:49:51.106990Z"
    }
   },
   "outputs": [],
   "source": [
    "from contextlib import redirect_stdout\n",
    "\n",
    "def load_lpips_model():\n",
    "    with open(os.devnull, \"w\") as f, redirect_stdout(f):\n",
    "        model = lpips.LPIPS(net='vgg').to(device)\n",
    "    return model"
   ]
  },
  {
   "cell_type": "code",
   "execution_count": 10,
   "metadata": {
    "ExecuteTime": {
     "end_time": "2025-01-16T10:49:52.523179Z",
     "start_time": "2025-01-16T10:49:52.445079Z"
    }
   },
   "outputs": [
    {
     "name": "stdout",
     "output_type": "stream",
     "text": [
      "Using device: cpu\n",
      "CUDA is not available. Using CPU.\n"
     ]
    }
   ],
   "source": [
    "device = torch.device(\"cuda\" if torch.cuda.is_available() else \"cpu\")  # Choose GPU or CPU\n",
    "\n",
    "print(f\"Using device: {device}\")\n",
    "if device.type == \"cuda\":\n",
    "    print(f\"CUDA Device Name: {torch.cuda.get_device_name(0)}\")\n",
    "else:\n",
    "    print(\"CUDA is not available. Using CPU.\")"
   ]
  },
  {
   "cell_type": "code",
   "execution_count": 12,
   "metadata": {
    "ExecuteTime": {
     "end_time": "2025-01-16T10:49:54.881497Z",
     "start_time": "2025-01-16T10:49:54.850076Z"
    }
   },
   "outputs": [],
   "source": [
    "# ignore warnings\n",
    "warnings.simplefilter(\"ignore\")\n",
    "\n",
    "def process_bm3d(\n",
    "    type,\n",
    "    transform_2d_ht_names=[\"dct\", \"bior1.5\"],\n",
    "    max_3d_size_hts=[32],\n",
    "    max_3d_size_wieners=[32],\n",
    "    bs_wieners=[8],\n",
    "    step_wieners=[3],\n",
    "    bs_hts=[8],\n",
    "    nfs=[32],\n",
    "    search_window_hts=[39],\n",
    "    search_window_wieners=[39],\n",
    "    step_hts=[3],\n",
    "    tau_matchs=[3000],\n",
    "    tau_match_wieners=[400],\n",
    "    lambda_thr3ds=[2.7],\n",
    "    gammas=[2.0],\n",
    "    beta_wieners=[2.0]\n",
    "):\n",
    "\n",
    "    # Storage for results\n",
    "    results_data = []\n",
    "    index = 0\n",
    "    y_s = [15, 16, 17, 18, 19, 20, 21, 22]\n",
    "\n",
    "    # Combine parameters for grid search\n",
    "    parameter_combinations = itertools.product(\n",
    "        y_s,\n",
    "        transform_2d_ht_names,\n",
    "        max_3d_size_hts,\n",
    "        max_3d_size_wieners,\n",
    "        bs_wieners,\n",
    "        step_wieners,\n",
    "        bs_hts,\n",
    "        nfs,\n",
    "        search_window_hts,\n",
    "        search_window_wieners,\n",
    "        step_hts,\n",
    "        tau_matchs,\n",
    "        tau_match_wieners,\n",
    "        lambda_thr3ds,\n",
    "        gammas,\n",
    "        beta_wieners,\n",
    "    )\n",
    "\n",
    "    parameter_combinations = list(parameter_combinations)\n",
    "    total_combinations = len(parameter_combinations)\n",
    "\n",
    "    sigma_psd_values = [*range(5, 31, 5)]\n",
    "    stage_args = [BM3DStages.ALL_STAGES]\n",
    "    total_iterations = len(parameter_combinations) * len(stage_args) * len(sigma_psd_values)\n",
    "\n",
    "\n",
    "    with tqdm(range(total_iterations), desc=\"Progress\") as pbar:\n",
    "\n",
    "        # Iterate through all combinations\n",
    "        for i, params in enumerate(parameter_combinations):\n",
    "            (\n",
    "                y,\n",
    "                transform_2d_ht_name,\n",
    "                max_3d_size_ht,\n",
    "                max_3d_size_wiener,\n",
    "                bs_wiener,\n",
    "                step_wiener,\n",
    "                bs_ht,\n",
    "                nf,\n",
    "                search_window_ht,\n",
    "                search_window_wiener,\n",
    "                step_ht,\n",
    "                tau_match,\n",
    "                tau_match_wiener,\n",
    "                lambda_thr3d,\n",
    "                gamma,\n",
    "                beta_wiener,\n",
    "            ) = params\n",
    "\n",
    "            # Configure BM3D profile\n",
    "            profile = profiles.BM3DProfile()\n",
    "            # Transforms used\n",
    "            profile.transform_2d_ht_name = transform_2d_ht_name  # 'bior1.5'\n",
    "            profile.transform_2d_wiener_name = \"dct\"\n",
    "\n",
    "            # -- Exact variances for correlated noise: --\n",
    "\n",
    "            # Variance calculation parameters\n",
    "            profile.nf = nf  # 32  # domain size for FFT computations\n",
    "            profile.k = 4  # how many layers of var3D to calculate\n",
    "\n",
    "            # Block matching\n",
    "            profile.gamma = gamma  # 3.0  # Block matching correction factor\n",
    "\n",
    "            # -- Classic BM3D for correlated noise --\n",
    "\n",
    "            # Hard-thresholding (HT) parameters:\n",
    "            profile.bs_ht = bs_ht  # 8  # N1 x N1 is the block size used for the hard-thresholding (HT) filtering\n",
    "            profile.step_ht = (\n",
    "                step_ht  # 3# sliding step to process every next reference block\n",
    "            )\n",
    "            profile.max_3d_size_ht = max_3d_size_ht  # 16  # maximum number of similar blocks (maximum size of the 3rd dimension of a 3D array)\n",
    "            profile.search_window_ht = search_window_ht  # 39  # side length of the search neighborhood for full-search block-matching (BM), must be odd\n",
    "            profile.tau_match = (\n",
    "                tau_match  # 3000  # threshold for the block-distance (d-distance)\n",
    "            )\n",
    "\n",
    "            # None in these parameters results in automatic parameter selection for them\n",
    "            profile.lambda_thr3d = lambda_thr3d  # None  # 2.7  # threshold parameter for the hard-thresholding in 3D transform domain\n",
    "            profile.mu2 = lambda_thr3d  # None  # 1.0\n",
    "\n",
    "            # Wiener filtering parameters:\n",
    "            profile.bs_wiener = bs_wiener  # 8\n",
    "            profile.step_wiener = step_wiener  # 3\n",
    "            profile.max_3d_size_wiener = max_3d_size_wiener  # 32\n",
    "            profile.search_window_wiener = search_window_wiener  # 39\n",
    "            profile.tau_match_wiener = tau_match_wiener  # 400\n",
    "            profile.beta_wiener = beta_wiener  # 2.0\n",
    "            profile.dec_level = (\n",
    "                0  # dec. levels of the dyadic wavelet 2D transform for blocks\n",
    "            )\n",
    "\n",
    "            output_base_folder = f\"{base_dir}/Results/Leech results/{type}/\"\n",
    "            os.makedirs(output_base_folder, exist_ok=True)\n",
    "\n",
    "            file_path = f\"{base_dir}/Dataset/leech/2024_04_25_11_54_01_img_x_15_y_{y}_r_0_g_1_b_0_cropped.exr\"\n",
    "\n",
    "            # Load and preprocess noisy image\n",
    "            noisy_img = process_exr(file_path)  # 800x800\n",
    "            noisy_img = (noisy_img[:-10, :-10] * 255).astype(\"uint8\")\n",
    "\n",
    "            # Process each stage and sigma_psd value\n",
    "            for stage_arg in stage_args:\n",
    "                for sigma_psd in sigma_psd_values:\n",
    "                    # start timer\n",
    "                    start_time = time.time()\n",
    "\n",
    "                    denoised_img = bm3d(\n",
    "                        noisy_img, sigma_psd=sigma_psd, stage_arg=stage_arg, profile=profile\n",
    "                    )\n",
    "\n",
    "                    end_time = time.time()\n",
    "\n",
    "                    snr_max_min_db, snr_mean_db = calculate_snr(denoised_img)\n",
    "                    img_tensor = numpy_to_torch(denoised_img)\n",
    "\n",
    "                    # BRISQUELoss\n",
    "                    try:\n",
    "                        loss = BRISQUELoss(reduction=\"sum\").to(device)\n",
    "                        brsique_score = loss(img_tensor)\n",
    "                        brsique_score.backward()\n",
    "                        brsique_score = brsique_score.item()\n",
    "                    except:\n",
    "                        brsique_score = None\n",
    "\n",
    "                    # TV\n",
    "                    loss = TVLoss().to(device)\n",
    "                    tv = loss(img_tensor)\n",
    "                    tv.backward()\n",
    "                    tv = tv.item()\n",
    "\n",
    "                    # CLIP IQA\n",
    "                    try:\n",
    "                        clipiqa = CLIPIQA().to(device)\n",
    "                        clipiqa_score = clipiqa(img_tensor).item()#\n",
    "                    except:\n",
    "                        clipiqa_score = None\n",
    "\n",
    "\n",
    "                    # LPIPS\n",
    "                    try:\n",
    "                        noisy_img_torch = numpy_to_torch(noisy_img)\n",
    "                        loss_fn = load_lpips_model()\n",
    "                        lpips_score = loss_fn(noisy_img_torch, img_tensor).item()\n",
    "                    except:\n",
    "                        lpips_score = None\n",
    "\n",
    "                    denoised_img_float32 = (\n",
    "                        denoised_img.astype(\"float32\") / 255.0\n",
    "                    )  # Normalize to [0, 1] range\n",
    "                    # OpenEXR requires the data to be split into channels (R, G, B)\n",
    "                    R = denoised_img_float32[:, :, 0].tobytes()  # Red channel\n",
    "                    G = denoised_img_float32[:, :, 1].tobytes()  # Green channel\n",
    "                    B = denoised_img_float32[:, :, 2].tobytes()  # Blue channel\n",
    "\n",
    "                    # Define EXR header\n",
    "                    header = OpenEXR.Header(\n",
    "                        denoised_img_float32.shape[1], denoised_img_float32.shape[0]\n",
    "                    )  # Width, Height\n",
    "\n",
    "                    # Write the data to an EXR file\n",
    "                    path_final = output_base_folder + f\"{type}-{index}_image_res.exr\"\n",
    "                    exr_file = OpenEXR.OutputFile(path_final, header)\n",
    "                    exr_file.writePixels({\"R\": R, \"G\": G, \"B\": B})\n",
    "                    exr_file.close()\n",
    "\n",
    "                    # Store all parameter values and results\n",
    "                    results_data.append(\n",
    "                        {\n",
    "                            \"Coordinate y\": y,\n",
    "                            \"Sigma PSD\": sigma_psd,\n",
    "                            \"Stage_arg\": stage_arg,\n",
    "                            \"Transform 2D\": transform_2d_ht_name,\n",
    "                            \"Max 3D Size HT\": max_3d_size_ht,\n",
    "                            \"Max 3D Size Wiener\": max_3d_size_wiener,\n",
    "                            \"Block Size Wiener\": bs_wiener,\n",
    "                            \"Step Wiener\": step_wiener,\n",
    "                            \"Block Size HT\": bs_ht,\n",
    "                            \"Step HT\": step_ht,\n",
    "                            \"Number of Features (NF)\": nf,\n",
    "                            \"Search Window HT\": search_window_ht,\n",
    "                            \"Search Window Wiener\": search_window_wiener,\n",
    "                            \"Tau Match\": tau_match,\n",
    "                            \"Tau Match Wiener\": tau_match_wiener,\n",
    "                            \"Lambda Thr3D\": lambda_thr3d,\n",
    "                            \"Gamma\": gamma,\n",
    "                            \"Beta Wiener\": beta_wiener,\n",
    "                            \"SNR Max-Min (dB)\": snr_max_min_db,\n",
    "                            \"SNR Mean (dB)\": snr_mean_db,\n",
    "                            \"BRISQUE\": brsique_score,\n",
    "                            \"Total Variation\": tv,\n",
    "                            \"Clip-IQA\": clipiqa_score,\n",
    "                            \"LPIPs_score\" : lpips_score,\n",
    "                            \"Computation Time\" : end_time,\n",
    "                        }\n",
    "                    )\n",
    "\n",
    "                    # Convert to a DataFrame\n",
    "                    pbar.set_postfix(Index = index, y = y, SNR = snr_max_min_db, BRISQUE = brsique_score, TV_loss = tv, Clip_IQA = clipiqa_score, LPIPs_score = lpips_score, Computation_Time = end_time)\n",
    "                    pbar.update(1)\n",
    "\n",
    "                    df = pd.DataFrame(results_data)\n",
    "                    # Save to Excel\n",
    "                    df.to_excel(\n",
    "                        f\"{base_dir}/Results/Leech results/{type}/results_data_{type}.xlsx\",\n",
    "                        index=True,\n",
    "                    )\n",
    "                    index = index + 1"
   ]
  },
  {
   "cell_type": "markdown",
   "metadata": {},
   "source": [
    "# Influence of N patches in block"
   ]
  },
  {
   "cell_type": "code",
   "execution_count": 25,
   "metadata": {
    "ExecuteTime": {
     "end_time": "2025-01-10T15:20:10.814316Z",
     "start_time": "2025-01-10T13:32:20.706388Z"
    }
   },
   "outputs": [
    {
     "name": "stderr",
     "output_type": "stream",
     "text": [
      "Progress: 100%|██████████| 384/384 [1:47:50<00:00, 16.85s/it, BRISQUE=None, Clip_IQA=0.521, Computation_Time=1.74e+9, Index=383, LPIPs_score=0.00624, SNR=40.9, TV_loss=0.000519, y=22]\n"
     ]
    }
   ],
   "source": [
    "max_3d_size_hts=[16,32]\n",
    "max_3d_size_wieners=[16,32]\n",
    "process_bm3d(type=\"Block_Size\", max_3d_size_hts=max_3d_size_hts, max_3d_size_wieners=max_3d_size_wieners)"
   ]
  },
  {
   "cell_type": "markdown",
   "metadata": {},
   "source": [
    "# Influence of Patch size hard and Patch size wien"
   ]
  },
  {
   "cell_type": "code",
   "execution_count": 26,
   "metadata": {
    "ExecuteTime": {
     "end_time": "2025-01-10T21:04:52.610950Z",
     "start_time": "2025-01-10T15:20:10.846003Z"
    }
   },
   "outputs": [
    {
     "name": "stderr",
     "output_type": "stream",
     "text": [
      "Progress: 100%|██████████| 384/384 [5:44:41<00:00, 53.86s/it, BRISQUE=None, Clip_IQA=0.521, Computation_Time=1.74e+9, Index=383, LPIPs_score=0.00624, SNR=35.6, TV_loss=0.000191, y=22]\n"
     ]
    }
   ],
   "source": [
    "bs_wieners = [8,16]\n",
    "bs_hts = [8,16]\n",
    "process_bm3d(type=\"Patch_Size\", bs_hts=bs_hts, bs_wieners=bs_wieners)"
   ]
  },
  {
   "cell_type": "markdown",
   "metadata": {},
   "source": [
    "# Influence of Skip steps 1 (Reference Patches)"
   ]
  },
  {
   "cell_type": "code",
   "execution_count": 13,
   "metadata": {
    "ExecuteTime": {
     "end_time": "2025-01-16T13:23:23.995486Z",
     "start_time": "2025-01-16T10:50:05.878236Z"
    }
   },
   "outputs": [
    {
     "name": "stderr",
     "output_type": "stream",
     "text": [
      "Progress: 100%|██████████| 96/96 [2:33:18<00:00, 95.81s/it, BRISQUE=None, Clip_IQA=0.521, Computation_Time=1.74e+9, Index=95, LPIPs_score=0.00624, SNR=40.7, TV_loss=0.000499, y=22] \n"
     ]
    }
   ],
   "source": [
    "step_hts = [1]\n",
    "step_wieners = [1]\n",
    "process_bm3d(type=\"Step_size\", step_hts=step_hts, step_wieners=step_wieners)"
   ]
  },
  {
   "cell_type": "markdown",
   "metadata": {},
   "source": [
    "# Influence of Thresholds (Hard and Wiener)"
   ]
  },
  {
   "cell_type": "code",
   "execution_count": 15,
   "metadata": {
    "ExecuteTime": {
     "end_time": "2025-01-14T19:09:41.179770Z",
     "start_time": "2025-01-14T14:42:29.737716Z"
    }
   },
   "outputs": [
    {
     "name": "stderr",
     "output_type": "stream",
     "text": [
      "Progress: 100%|██████████| 864/864 [4:27:11<00:00, 18.55s/it, BRISQUE=None, Clip_IQA=0.521, Computation_Time=1.74e+9, Index=863, LPIPs_score=0.00624, SNR=40.8, TV_loss=0.000495, y=22]\n"
     ]
    }
   ],
   "source": [
    "tau_matches= [1500,3000,4500]\n",
    "tau_match_wieners= [200,400,600]\n",
    "process_bm3d(type=\"Threshold_Hard_Wiener\", tau_matchs=tau_matches, tau_match_wieners=tau_match_wieners)"
   ]
  },
  {
   "cell_type": "markdown",
   "metadata": {},
   "source": [
    "# Influence of others"
   ]
  },
  {
   "cell_type": "code",
   "execution_count": 12,
   "metadata": {
    "ExecuteTime": {
     "end_time": "2025-01-15T20:52:56.920761Z",
     "start_time": "2025-01-15T12:12:14.622925Z"
    }
   },
   "outputs": [
    {
     "name": "stderr",
     "output_type": "stream",
     "text": [
      "Progress: 100%|██████████| 1728/1728 [8:40:42<00:00, 18.08s/it, BRISQUE=None, Clip_IQA=0.521, Computation_Time=1.74e+9, Index=1727, LPIPs_score=0.00624, SNR=40, TV_loss=0.000423, y=22]   \n"
     ]
    }
   ],
   "source": [
    "lambda_thr3ds=[2.0,2.7,3.3]\n",
    "gammas=[2.0,4.0]\n",
    "beta_wieners=[1.0,2.0,3.0]\n",
    "process_bm3d(type=\"others\", lambda_thr3ds=lambda_thr3ds, gammas=gammas, beta_wieners = beta_wieners)"
   ]
  },
  {
   "cell_type": "markdown",
   "metadata": {},
   "source": [
    "# Influence of Skip steps 5 (Reference Patches)"
   ]
  },
  {
   "cell_type": "code",
   "execution_count": null,
   "metadata": {},
   "outputs": [],
   "source": [
    "step_hts = [5]\n",
    "step_wieners = [5]\n",
    "process_bm3d(type=\"Step_size_5\", step_hts=step_hts, step_wieners=step_wieners)"
   ]
  },
  {
   "cell_type": "code",
   "execution_count": 14,
   "metadata": {},
   "outputs": [],
   "source": [
    "# ignore warnings\n",
    "warnings.simplefilter(\"ignore\")\n",
    "\n",
    "def process_bm3d(\n",
    "    type,\n",
    "    transform_2d_ht_names=[\"dct\", \"bior1.5\"],\n",
    "    max_3d_size_hts=[32],\n",
    "    max_3d_size_wieners=[32],\n",
    "    bs_wieners=[8],\n",
    "    step_wieners=[3],\n",
    "    bs_hts=[8],\n",
    "    nfs=[32],\n",
    "    search_window_hts=[39],\n",
    "    search_window_wieners=[39],\n",
    "    step_hts=[3],\n",
    "    tau_matchs=[3000],\n",
    "    tau_match_wieners=[400],\n",
    "    lambda_thr3ds=[2.7],\n",
    "    gammas=[2.0],\n",
    "    beta_wieners=[2.0]\n",
    "):\n",
    "\n",
    "    # Storage for results\n",
    "    results_data = []\n",
    "    index = 0\n",
    "    y_s = [15, 16, 17, 18, 19, 20, 21, 22]\n",
    "\n",
    "    # Combine parameters for grid search\n",
    "    parameter_combinations = itertools.product(\n",
    "        y_s,\n",
    "        transform_2d_ht_names,\n",
    "        max_3d_size_hts,\n",
    "        max_3d_size_wieners,\n",
    "        bs_wieners,\n",
    "        step_wieners,\n",
    "        bs_hts,\n",
    "        nfs,\n",
    "        search_window_hts,\n",
    "        search_window_wieners,\n",
    "        step_hts,\n",
    "        tau_matchs,\n",
    "        tau_match_wieners,\n",
    "        lambda_thr3ds,\n",
    "        gammas,\n",
    "        beta_wieners,\n",
    "    )\n",
    "\n",
    "    parameter_combinations = list(parameter_combinations)\n",
    "    total_combinations = len(parameter_combinations)\n",
    "\n",
    "    sigma_psd_values = [*range(5, 31, 5)]\n",
    "    stage_args = [BM3DStages.ALL_STAGES]\n",
    "    total_iterations = len(parameter_combinations) * len(stage_args) * len(sigma_psd_values)\n",
    "\n",
    "\n",
    "    with tqdm(range(total_iterations), desc=\"Progress\") as pbar:\n",
    "\n",
    "        # Iterate through all combinations\n",
    "        for i, params in enumerate(parameter_combinations):\n",
    "            (\n",
    "                y,\n",
    "                transform_2d_ht_name,\n",
    "                max_3d_size_ht,\n",
    "                max_3d_size_wiener,\n",
    "                bs_wiener,\n",
    "                step_wiener,\n",
    "                bs_ht,\n",
    "                nf,\n",
    "                search_window_ht,\n",
    "                search_window_wiener,\n",
    "                step_ht,\n",
    "                tau_match,\n",
    "                tau_match_wiener,\n",
    "                lambda_thr3d,\n",
    "                gamma,\n",
    "                beta_wiener,\n",
    "            ) = params\n",
    "\n",
    "            # Configure BM3D profile\n",
    "            profile = profiles.BM3DProfile()\n",
    "            # Transforms used\n",
    "            profile.transform_2d_ht_name = transform_2d_ht_name  # 'bior1.5'\n",
    "            profile.transform_2d_wiener_name = \"dct\"\n",
    "\n",
    "            # -- Exact variances for correlated noise: --\n",
    "\n",
    "            # Variance calculation parameters\n",
    "            profile.nf = nf  # 32  # domain size for FFT computations\n",
    "            profile.k = 4  # how many layers of var3D to calculate\n",
    "\n",
    "            # Block matching\n",
    "            profile.gamma = gamma  # 3.0  # Block matching correction factor\n",
    "\n",
    "            # -- Classic BM3D for correlated noise --\n",
    "\n",
    "            # Hard-thresholding (HT) parameters:\n",
    "            profile.bs_ht = bs_ht  # 8  # N1 x N1 is the block size used for the hard-thresholding (HT) filtering\n",
    "            profile.step_ht = (\n",
    "                step_ht  # 3# sliding step to process every next reference block\n",
    "            )\n",
    "            profile.max_3d_size_ht = max_3d_size_ht  # 16  # maximum number of similar blocks (maximum size of the 3rd dimension of a 3D array)\n",
    "            profile.search_window_ht = search_window_ht  # 39  # side length of the search neighborhood for full-search block-matching (BM), must be odd\n",
    "            profile.tau_match = (\n",
    "                tau_match  # 3000  # threshold for the block-distance (d-distance)\n",
    "            )\n",
    "\n",
    "            # None in these parameters results in automatic parameter selection for them\n",
    "            profile.lambda_thr3d = lambda_thr3d  # None  # 2.7  # threshold parameter for the hard-thresholding in 3D transform domain\n",
    "            profile.mu2 = lambda_thr3d  # None  # 1.0\n",
    "\n",
    "            # Wiener filtering parameters:\n",
    "            profile.bs_wiener = bs_wiener  # 8\n",
    "            profile.step_wiener = step_wiener  # 3\n",
    "            profile.max_3d_size_wiener = max_3d_size_wiener  # 32\n",
    "            profile.search_window_wiener = search_window_wiener  # 39\n",
    "            profile.tau_match_wiener = tau_match_wiener  # 400\n",
    "            profile.beta_wiener = beta_wiener  # 2.0\n",
    "            profile.dec_level = (\n",
    "                0  # dec. levels of the dyadic wavelet 2D transform for blocks\n",
    "            )\n",
    "\n",
    "            output_base_folder = f\"{base_dir}/Results/resTarget results/{type}/\"\n",
    "            os.makedirs(output_base_folder, exist_ok=True)\n",
    "\n",
    "            file_path = f\"{base_dir}/Dataset/resTarget/2024_02_09_10_17_52_img_x_15_y_{y}_r_0_g_1_b_0_cropped.exr\"\n",
    "\n",
    "            # Load and preprocess noisy image\n",
    "            noisy_img = process_exr(file_path)  # 800x800\n",
    "            noisy_img = (noisy_img * 255).astype(\"uint8\")\n",
    "\n",
    "            # Process each stage and sigma_psd value\n",
    "            for stage_arg in stage_args:\n",
    "                for sigma_psd in sigma_psd_values:\n",
    "                    # start timer\n",
    "                    start_time = time.time()\n",
    "\n",
    "                    denoised_img = bm3d(\n",
    "                        noisy_img, sigma_psd=sigma_psd, stage_arg=stage_arg, profile=profile\n",
    "                    )\n",
    "\n",
    "                    end_time = time.time()\n",
    "\n",
    "                    snr_max_min_db, snr_mean_db = calculate_snr(denoised_img)\n",
    "                    img_tensor = numpy_to_torch(denoised_img)\n",
    "\n",
    "                    # BRISQUELoss\n",
    "                    try:\n",
    "                        loss = BRISQUELoss(reduction=\"sum\").to(device)\n",
    "                        brsique_score = loss(img_tensor)\n",
    "                        brsique_score.backward()\n",
    "                        brsique_score = brsique_score.item()\n",
    "                    except:\n",
    "                        brsique_score = None\n",
    "\n",
    "                    # TV\n",
    "                    loss = TVLoss().to(device)\n",
    "                    tv = loss(img_tensor)\n",
    "                    tv.backward()\n",
    "                    tv = tv.item()\n",
    "\n",
    "                    # CLIP IQA\n",
    "                    try:\n",
    "                        clipiqa = CLIPIQA().to(device)\n",
    "                        clipiqa_score = clipiqa(img_tensor).item()#\n",
    "                    except:\n",
    "                        clipiqa_score = None\n",
    "\n",
    "\n",
    "                    # LPIPS\n",
    "                    try:\n",
    "                        noisy_img_torch = numpy_to_torch(noisy_img)\n",
    "                        loss_fn = load_lpips_model()\n",
    "                        lpips_score = loss_fn(noisy_img_torch, img_tensor).item()\n",
    "                    except:\n",
    "                        lpips_score = None\n",
    "\n",
    "                    denoised_img_float32 = (\n",
    "                        denoised_img.astype(\"float32\") / 255.0\n",
    "                    )  # Normalize to [0, 1] range\n",
    "                    # OpenEXR requires the data to be split into channels (R, G, B)\n",
    "                    R = denoised_img_float32[:, :, 0].tobytes()  # Red channel\n",
    "                    G = denoised_img_float32[:, :, 1].tobytes()  # Green channel\n",
    "                    B = denoised_img_float32[:, :, 2].tobytes()  # Blue channel\n",
    "\n",
    "                    # Define EXR header\n",
    "                    header = OpenEXR.Header(\n",
    "                        denoised_img_float32.shape[1], denoised_img_float32.shape[0]\n",
    "                    )  # Width, Height\n",
    "\n",
    "                    # Write the data to an EXR file\n",
    "                    path_final = output_base_folder + f\"{type}-{index}_image_res.exr\"\n",
    "                    exr_file = OpenEXR.OutputFile(path_final, header)\n",
    "                    exr_file.writePixels({\"R\": R, \"G\": G, \"B\": B})\n",
    "                    exr_file.close()\n",
    "\n",
    "                    # Store all parameter values and results\n",
    "                    results_data.append(\n",
    "                        {\n",
    "                            \"Coordinate y\": y,\n",
    "                            \"Sigma PSD\": sigma_psd,\n",
    "                            \"Stage_arg\": stage_arg,\n",
    "                            \"Transform 2D\": transform_2d_ht_name,\n",
    "                            \"Max 3D Size HT\": max_3d_size_ht,\n",
    "                            \"Max 3D Size Wiener\": max_3d_size_wiener,\n",
    "                            \"Block Size Wiener\": bs_wiener,\n",
    "                            \"Step Wiener\": step_wiener,\n",
    "                            \"Block Size HT\": bs_ht,\n",
    "                            \"Step HT\": step_ht,\n",
    "                            \"Number of Features (NF)\": nf,\n",
    "                            \"Search Window HT\": search_window_ht,\n",
    "                            \"Search Window Wiener\": search_window_wiener,\n",
    "                            \"Tau Match\": tau_match,\n",
    "                            \"Tau Match Wiener\": tau_match_wiener,\n",
    "                            \"Lambda Thr3D\": lambda_thr3d,\n",
    "                            \"Gamma\": gamma,\n",
    "                            \"Beta Wiener\": beta_wiener,\n",
    "                            \"SNR Max-Min (dB)\": snr_max_min_db,\n",
    "                            \"SNR Mean (dB)\": snr_mean_db,\n",
    "                            \"BRISQUE\": brsique_score,\n",
    "                            \"Total Variation\": tv,\n",
    "                            \"Clip-IQA\": clipiqa_score,\n",
    "                            \"LPIPs_score\" : lpips_score,\n",
    "                            \"Computation Time\" : end_time,\n",
    "                        }\n",
    "                    )\n",
    "\n",
    "                    # Convert to a DataFrame\n",
    "                    pbar.set_postfix(Index = index, y = y, SNR = snr_max_min_db, BRISQUE = brsique_score, TV_loss = tv, Clip_IQA = clipiqa_score, LPIPs_score = lpips_score, Computation_Time = end_time)\n",
    "                    pbar.update(1)\n",
    "\n",
    "                    df = pd.DataFrame(results_data)\n",
    "                    # Save to Excel\n",
    "                    df.to_excel(\n",
    "                        f\"{base_dir}/Results/resTarget results/{type}/results_data_{type}.xlsx\",\n",
    "                        index=True,\n",
    "                    )\n",
    "                    index = index + 1"
   ]
  },
  {
   "cell_type": "code",
   "execution_count": 12,
   "metadata": {},
   "outputs": [
    {
     "name": "stderr",
     "output_type": "stream",
     "text": [
      "Progress:   0%|          | 1/384 [00:11<1:12:26, 11.35s/it, BRISQUE=92.8, Clip_IQA=0.39, Computation_Time=1.74e+9, Index=0, LPIPs_score=0.0352, SNR=13.7, TV_loss=23.5, y=15]\n"
     ]
    },
    {
     "ename": "KeyboardInterrupt",
     "evalue": "",
     "output_type": "error",
     "traceback": [
      "\u001b[0;31m---------------------------------------------------------------------------\u001b[0m",
      "\u001b[0;31mKeyboardInterrupt\u001b[0m                         Traceback (most recent call last)",
      "Cell \u001b[0;32mIn[12], line 3\u001b[0m\n\u001b[1;32m      1\u001b[0m max_3d_size_hts\u001b[38;5;241m=\u001b[39m[\u001b[38;5;241m16\u001b[39m,\u001b[38;5;241m32\u001b[39m]\n\u001b[1;32m      2\u001b[0m max_3d_size_wieners\u001b[38;5;241m=\u001b[39m[\u001b[38;5;241m16\u001b[39m,\u001b[38;5;241m32\u001b[39m]\n\u001b[0;32m----> 3\u001b[0m \u001b[43mprocess_bm3d\u001b[49m\u001b[43m(\u001b[49m\u001b[38;5;28;43mtype\u001b[39;49m\u001b[38;5;241;43m=\u001b[39;49m\u001b[38;5;124;43m\"\u001b[39;49m\u001b[38;5;124;43mBlock_Size\u001b[39;49m\u001b[38;5;124;43m\"\u001b[39;49m\u001b[43m,\u001b[49m\u001b[43m \u001b[49m\u001b[43mmax_3d_size_hts\u001b[49m\u001b[38;5;241;43m=\u001b[39;49m\u001b[43mmax_3d_size_hts\u001b[49m\u001b[43m,\u001b[49m\u001b[43m \u001b[49m\u001b[43mmax_3d_size_wieners\u001b[49m\u001b[38;5;241;43m=\u001b[39;49m\u001b[43mmax_3d_size_wieners\u001b[49m\u001b[43m)\u001b[49m\n",
      "Cell \u001b[0;32mIn[11], line 137\u001b[0m, in \u001b[0;36mprocess_bm3d\u001b[0;34m(type, transform_2d_ht_names, max_3d_size_hts, max_3d_size_wieners, bs_wieners, step_wieners, bs_hts, nfs, search_window_hts, search_window_wieners, step_hts, tau_matchs, tau_match_wieners, lambda_thr3ds, gammas, beta_wieners)\u001b[0m\n\u001b[1;32m    133\u001b[0m \u001b[38;5;28;01mfor\u001b[39;00m sigma_psd \u001b[38;5;129;01min\u001b[39;00m sigma_psd_values:\n\u001b[1;32m    134\u001b[0m     \u001b[38;5;66;03m# start timer\u001b[39;00m\n\u001b[1;32m    135\u001b[0m     start_time \u001b[38;5;241m=\u001b[39m time\u001b[38;5;241m.\u001b[39mtime()\n\u001b[0;32m--> 137\u001b[0m     denoised_img \u001b[38;5;241m=\u001b[39m \u001b[43mbm3d\u001b[49m\u001b[43m(\u001b[49m\n\u001b[1;32m    138\u001b[0m \u001b[43m        \u001b[49m\u001b[43mnoisy_img\u001b[49m\u001b[43m,\u001b[49m\u001b[43m \u001b[49m\u001b[43msigma_psd\u001b[49m\u001b[38;5;241;43m=\u001b[39;49m\u001b[43msigma_psd\u001b[49m\u001b[43m,\u001b[49m\u001b[43m \u001b[49m\u001b[43mstage_arg\u001b[49m\u001b[38;5;241;43m=\u001b[39;49m\u001b[43mstage_arg\u001b[49m\u001b[43m,\u001b[49m\u001b[43m \u001b[49m\u001b[43mprofile\u001b[49m\u001b[38;5;241;43m=\u001b[39;49m\u001b[43mprofile\u001b[49m\n\u001b[1;32m    139\u001b[0m \u001b[43m    \u001b[49m\u001b[43m)\u001b[49m\n\u001b[1;32m    141\u001b[0m     end_time \u001b[38;5;241m=\u001b[39m time\u001b[38;5;241m.\u001b[39mtime()\n\u001b[1;32m    143\u001b[0m     snr_max_min_db, snr_mean_db \u001b[38;5;241m=\u001b[39m calculate_snr(denoised_img)\n",
      "File \u001b[0;32m~/.conda/envs/DL/lib/python3.12/site-packages/bm3d/__init__.py:218\u001b[0m, in \u001b[0;36mbm3d\u001b[0;34m(z, sigma_psd, profile, stage_arg, blockmatches)\u001b[0m\n\u001b[1;32m    216\u001b[0m         sigma_psd \u001b[38;5;241m=\u001b[39m np\u001b[38;5;241m.\u001b[39marray([[sigma_psd]])\u001b[38;5;241m.\u001b[39mtranspose((\u001b[38;5;241m0\u001b[39m, \u001b[38;5;241m2\u001b[39m, \u001b[38;5;241m3\u001b[39m, \u001b[38;5;241m1\u001b[39m))\n\u001b[1;32m    217\u001b[0m     z \u001b[38;5;241m=\u001b[39m np\u001b[38;5;241m.\u001b[39marray([z])\u001b[38;5;241m.\u001b[39mtranspose((\u001b[38;5;241m3\u001b[39m, \u001b[38;5;241m1\u001b[39m, \u001b[38;5;241m2\u001b[39m, \u001b[38;5;241m0\u001b[39m))\n\u001b[0;32m--> 218\u001b[0m     y_hat \u001b[38;5;241m=\u001b[39m \u001b[43m_bm4d\u001b[49m\u001b[38;5;241;43m.\u001b[39;49m\u001b[43mbm4d_multichannel\u001b[49m\u001b[43m(\u001b[49m\u001b[43mz\u001b[49m\u001b[43m,\u001b[49m\u001b[43m \u001b[49m\u001b[43msigma_psd\u001b[49m\u001b[43m,\u001b[49m\u001b[43m \u001b[49m\u001b[43mconverted_profile\u001b[49m\u001b[43m,\u001b[49m\u001b[43m \u001b[49m\u001b[43mstage_arg\u001b[49m\u001b[43m)\u001b[49m\n\u001b[1;32m    219\u001b[0m \u001b[38;5;28;01melse\u001b[39;00m:\n\u001b[1;32m    220\u001b[0m     \u001b[38;5;28;01mif\u001b[39;00m incl_blockmatches:\n",
      "File \u001b[0;32m~/.conda/envs/DL/lib/python3.12/site-packages/bm4d/__init__.py:80\u001b[0m, in \u001b[0;36mbm4d_multichannel\u001b[0;34m(z, sigma_psd, profile, stage_arg)\u001b[0m\n\u001b[1;32m     76\u001b[0m         \u001b[38;5;28;01mreturn\u001b[39;00m np\u001b[38;5;241m.\u001b[39msqueeze(sigma_psd)\n\u001b[1;32m     77\u001b[0m     \u001b[38;5;28;01mreturn\u001b[39;00m sigma_psd[index]\n\u001b[0;32m---> 80\u001b[0m denoi, match_arrs \u001b[38;5;241m=\u001b[39m \u001b[43mbm4d\u001b[49m\u001b[43m(\u001b[49m\u001b[43mz\u001b[49m\u001b[43m[\u001b[49m\u001b[38;5;241;43m0\u001b[39;49m\u001b[43m]\u001b[49m\u001b[43m,\u001b[49m\u001b[43m \u001b[49m\u001b[43mget_sigma\u001b[49m\u001b[43m(\u001b[49m\u001b[38;5;241;43m0\u001b[39;49m\u001b[43m)\u001b[49m\u001b[43m,\u001b[49m\u001b[43m \u001b[49m\u001b[43mprofile\u001b[49m\u001b[43m,\u001b[49m\u001b[43m \u001b[49m\u001b[43mstage_arg\u001b[49m\u001b[43m,\u001b[49m\u001b[43m \u001b[49m\u001b[43m(\u001b[49m\u001b[38;5;28;43;01mTrue\u001b[39;49;00m\u001b[43m,\u001b[49m\u001b[43m \u001b[49m\u001b[38;5;28;43;01mTrue\u001b[39;49;00m\u001b[43m)\u001b[49m\u001b[43m)\u001b[49m\n\u001b[1;32m     81\u001b[0m full_denoi\u001b[38;5;241m.\u001b[39mappend(denoi)\n\u001b[1;32m     83\u001b[0m \u001b[38;5;28;01mfor\u001b[39;00m i \u001b[38;5;129;01min\u001b[39;00m \u001b[38;5;28mrange\u001b[39m(\u001b[38;5;241m1\u001b[39m, \u001b[38;5;28mlen\u001b[39m(z)):\n",
      "File \u001b[0;32m~/.conda/envs/DL/lib/python3.12/site-packages/bm4d/__init__.py:217\u001b[0m, in \u001b[0;36mbm4d\u001b[0;34m(z, sigma_psd, profile, stage_arg, blockmatches)\u001b[0m\n\u001b[1;32m    213\u001b[0m t_forward, t_inverse, hadper_trans_single_den, \\\n\u001b[1;32m    214\u001b[0m     inverse_hadper_trans_single_den, wwin3d \u001b[38;5;241m=\u001b[39m _get_transforms(pro, \u001b[38;5;28;01mTrue\u001b[39;00m)\n\u001b[1;32m    216\u001b[0m \u001b[38;5;66;03m# Call the actual hard-thresholding step with the acquired parameters\u001b[39;00m\n\u001b[0;32m--> 217\u001b[0m y_hat, bm_out_ht \u001b[38;5;241m=\u001b[39m \u001b[43mht_fn\u001b[49m\u001b[43m(\u001b[49m\u001b[43mz\u001b[49m\u001b[43m,\u001b[49m\u001b[43m \u001b[49m\u001b[43mpsd_blur\u001b[49m\u001b[43m,\u001b[49m\u001b[43m \u001b[49m\u001b[43mpro\u001b[49m\u001b[43m,\u001b[49m\u001b[43m \u001b[49m\u001b[43mt_forward\u001b[49m\u001b[43m,\u001b[49m\u001b[43m \u001b[49m\u001b[43mt_inverse\u001b[49m\u001b[43m,\u001b[49m\u001b[43m \u001b[49m\u001b[43mqshifts\u001b[49m\u001b[43m,\u001b[49m\u001b[43m \u001b[49m\u001b[43mhadper_trans_single_den\u001b[49m\u001b[43m,\u001b[49m\n\u001b[1;32m    218\u001b[0m \u001b[43m                        \u001b[49m\u001b[43minverse_hadper_trans_single_den\u001b[49m\u001b[43m,\u001b[49m\u001b[43m \u001b[49m\u001b[43mwwin3d\u001b[49m\u001b[43m,\u001b[49m\u001b[43m \u001b[49m\u001b[43mblockmatches\u001b[49m\u001b[38;5;241;43m=\u001b[39;49m\u001b[43mbm_in_ht\u001b[49m\u001b[43m)\u001b[49m\n\u001b[1;32m    220\u001b[0m \u001b[38;5;66;03m# Residual denoising, HT\u001b[39;00m\n\u001b[1;32m    221\u001b[0m \u001b[38;5;28;01mif\u001b[39;00m pro\u001b[38;5;241m.\u001b[39mdenoise_residual:\n",
      "File \u001b[0;32m~/.conda/envs/DL/lib/python3.12/site-packages/bm4d/bm4d_ctypes.py:609\u001b[0m, in \u001b[0;36mbm4d_ht\u001b[0;34m(z, psd, pro, t_forward, t_inverse, qshifts, hadper_trans_single_den, inverse_hadper_trans_single_den, wwin3d, refilter, blockmatches)\u001b[0m\n\u001b[1;32m    606\u001b[0m c_psd \u001b[38;5;241m=\u001b[39m conv_to_array(np\u001b[38;5;241m.\u001b[39mascontiguousarray(psd\u001b[38;5;241m.\u001b[39mflatten(), dtype\u001b[38;5;241m=\u001b[39mnp\u001b[38;5;241m.\u001b[39mfloat32), ctype\u001b[38;5;241m=\u001b[39mctypes\u001b[38;5;241m.\u001b[39mc_float)\n\u001b[1;32m    607\u001b[0m c_est \u001b[38;5;241m=\u001b[39m conv_to_array(np\u001b[38;5;241m.\u001b[39mascontiguousarray(res\u001b[38;5;241m.\u001b[39mflatten(), dtype\u001b[38;5;241m=\u001b[39mnp\u001b[38;5;241m.\u001b[39mfloat32), ctype\u001b[38;5;241m=\u001b[39mctypes\u001b[38;5;241m.\u001b[39mc_float)\n\u001b[0;32m--> 609\u001b[0m \u001b[43mfunc_ht\u001b[49m\u001b[43m(\u001b[49m\u001b[43mc_z\u001b[49m\u001b[43m,\u001b[49m\u001b[43m \u001b[49m\u001b[43mc_psd\u001b[49m\u001b[43m,\u001b[49m\u001b[43m \u001b[49m\u001b[43mparams\u001b[49m\u001b[43m,\u001b[49m\u001b[43m \u001b[49m\u001b[43mtransforms\u001b[49m\u001b[43m,\u001b[49m\u001b[43m \u001b[49m\u001b[43mc_est\u001b[49m\u001b[43m,\u001b[49m\n\u001b[1;32m    610\u001b[0m \u001b[43m        \u001b[49m\u001b[43mctypes\u001b[49m\u001b[38;5;241;43m.\u001b[39;49m\u001b[43mbyref\u001b[49m\u001b[43m(\u001b[49m\u001b[43mmatchtables\u001b[49m\u001b[43m)\u001b[49m\u001b[43m \u001b[49m\u001b[38;5;28;43;01mif\u001b[39;49;00m\u001b[43m \u001b[49m\u001b[43mmatchtables\u001b[49m\u001b[43m \u001b[49m\u001b[38;5;129;43;01mis\u001b[39;49;00m\u001b[43m \u001b[49m\u001b[38;5;129;43;01mnot\u001b[39;49;00m\u001b[43m \u001b[49m\u001b[38;5;28;43;01mNone\u001b[39;49;00m\u001b[43m \u001b[49m\u001b[38;5;28;43;01melse\u001b[39;49;00m\u001b[43m \u001b[49m\u001b[43mmatchtables\u001b[49m\u001b[43m)\u001b[49m\n\u001b[1;32m    612\u001b[0m \u001b[38;5;28;01mfor\u001b[39;00m i \u001b[38;5;129;01min\u001b[39;00m \u001b[38;5;28mrange\u001b[39m(z_shape[\u001b[38;5;241m0\u001b[39m]):\n\u001b[1;32m    613\u001b[0m     \u001b[38;5;28;01mfor\u001b[39;00m j \u001b[38;5;129;01min\u001b[39;00m \u001b[38;5;28mrange\u001b[39m(z_shape[\u001b[38;5;241m1\u001b[39m]):\n",
      "\u001b[0;31mKeyboardInterrupt\u001b[0m: "
     ]
    }
   ],
   "source": [
    "max_3d_size_hts=[16,32]\n",
    "max_3d_size_wieners=[16,32]\n",
    "process_bm3d(type=\"Block_Size\", max_3d_size_hts=max_3d_size_hts, max_3d_size_wieners=max_3d_size_wieners)"
   ]
  },
  {
   "cell_type": "code",
   "execution_count": 13,
   "metadata": {},
   "outputs": [
    {
     "name": "stderr",
     "output_type": "stream",
     "text": [
      "Progress:   0%|          | 1/384 [00:22<2:20:33, 22.02s/it, BRISQUE=93.5, Clip_IQA=0.391, Computation_Time=1.74e+9, Index=0, LPIPs_score=0.0374, SNR=13.7, TV_loss=23.5, y=15]\n"
     ]
    },
    {
     "ename": "KeyboardInterrupt",
     "evalue": "",
     "output_type": "error",
     "traceback": [
      "\u001b[0;31m---------------------------------------------------------------------------\u001b[0m",
      "\u001b[0;31mKeyboardInterrupt\u001b[0m                         Traceback (most recent call last)",
      "Cell \u001b[0;32mIn[13], line 3\u001b[0m\n\u001b[1;32m      1\u001b[0m bs_wieners \u001b[38;5;241m=\u001b[39m [\u001b[38;5;241m8\u001b[39m,\u001b[38;5;241m16\u001b[39m]\n\u001b[1;32m      2\u001b[0m bs_hts \u001b[38;5;241m=\u001b[39m [\u001b[38;5;241m8\u001b[39m,\u001b[38;5;241m16\u001b[39m]\n\u001b[0;32m----> 3\u001b[0m \u001b[43mprocess_bm3d\u001b[49m\u001b[43m(\u001b[49m\u001b[38;5;28;43mtype\u001b[39;49m\u001b[38;5;241;43m=\u001b[39;49m\u001b[38;5;124;43m\"\u001b[39;49m\u001b[38;5;124;43mPatch_Size\u001b[39;49m\u001b[38;5;124;43m\"\u001b[39;49m\u001b[43m,\u001b[49m\u001b[43m \u001b[49m\u001b[43mbs_hts\u001b[49m\u001b[38;5;241;43m=\u001b[39;49m\u001b[43mbs_hts\u001b[49m\u001b[43m,\u001b[49m\u001b[43m \u001b[49m\u001b[43mbs_wieners\u001b[49m\u001b[38;5;241;43m=\u001b[39;49m\u001b[43mbs_wieners\u001b[49m\u001b[43m)\u001b[49m\n",
      "Cell \u001b[0;32mIn[11], line 137\u001b[0m, in \u001b[0;36mprocess_bm3d\u001b[0;34m(type, transform_2d_ht_names, max_3d_size_hts, max_3d_size_wieners, bs_wieners, step_wieners, bs_hts, nfs, search_window_hts, search_window_wieners, step_hts, tau_matchs, tau_match_wieners, lambda_thr3ds, gammas, beta_wieners)\u001b[0m\n\u001b[1;32m    133\u001b[0m \u001b[38;5;28;01mfor\u001b[39;00m sigma_psd \u001b[38;5;129;01min\u001b[39;00m sigma_psd_values:\n\u001b[1;32m    134\u001b[0m     \u001b[38;5;66;03m# start timer\u001b[39;00m\n\u001b[1;32m    135\u001b[0m     start_time \u001b[38;5;241m=\u001b[39m time\u001b[38;5;241m.\u001b[39mtime()\n\u001b[0;32m--> 137\u001b[0m     denoised_img \u001b[38;5;241m=\u001b[39m \u001b[43mbm3d\u001b[49m\u001b[43m(\u001b[49m\n\u001b[1;32m    138\u001b[0m \u001b[43m        \u001b[49m\u001b[43mnoisy_img\u001b[49m\u001b[43m,\u001b[49m\u001b[43m \u001b[49m\u001b[43msigma_psd\u001b[49m\u001b[38;5;241;43m=\u001b[39;49m\u001b[43msigma_psd\u001b[49m\u001b[43m,\u001b[49m\u001b[43m \u001b[49m\u001b[43mstage_arg\u001b[49m\u001b[38;5;241;43m=\u001b[39;49m\u001b[43mstage_arg\u001b[49m\u001b[43m,\u001b[49m\u001b[43m \u001b[49m\u001b[43mprofile\u001b[49m\u001b[38;5;241;43m=\u001b[39;49m\u001b[43mprofile\u001b[49m\n\u001b[1;32m    139\u001b[0m \u001b[43m    \u001b[49m\u001b[43m)\u001b[49m\n\u001b[1;32m    141\u001b[0m     end_time \u001b[38;5;241m=\u001b[39m time\u001b[38;5;241m.\u001b[39mtime()\n\u001b[1;32m    143\u001b[0m     snr_max_min_db, snr_mean_db \u001b[38;5;241m=\u001b[39m calculate_snr(denoised_img)\n",
      "File \u001b[0;32m~/.conda/envs/DL/lib/python3.12/site-packages/bm3d/__init__.py:218\u001b[0m, in \u001b[0;36mbm3d\u001b[0;34m(z, sigma_psd, profile, stage_arg, blockmatches)\u001b[0m\n\u001b[1;32m    216\u001b[0m         sigma_psd \u001b[38;5;241m=\u001b[39m np\u001b[38;5;241m.\u001b[39marray([[sigma_psd]])\u001b[38;5;241m.\u001b[39mtranspose((\u001b[38;5;241m0\u001b[39m, \u001b[38;5;241m2\u001b[39m, \u001b[38;5;241m3\u001b[39m, \u001b[38;5;241m1\u001b[39m))\n\u001b[1;32m    217\u001b[0m     z \u001b[38;5;241m=\u001b[39m np\u001b[38;5;241m.\u001b[39marray([z])\u001b[38;5;241m.\u001b[39mtranspose((\u001b[38;5;241m3\u001b[39m, \u001b[38;5;241m1\u001b[39m, \u001b[38;5;241m2\u001b[39m, \u001b[38;5;241m0\u001b[39m))\n\u001b[0;32m--> 218\u001b[0m     y_hat \u001b[38;5;241m=\u001b[39m \u001b[43m_bm4d\u001b[49m\u001b[38;5;241;43m.\u001b[39;49m\u001b[43mbm4d_multichannel\u001b[49m\u001b[43m(\u001b[49m\u001b[43mz\u001b[49m\u001b[43m,\u001b[49m\u001b[43m \u001b[49m\u001b[43msigma_psd\u001b[49m\u001b[43m,\u001b[49m\u001b[43m \u001b[49m\u001b[43mconverted_profile\u001b[49m\u001b[43m,\u001b[49m\u001b[43m \u001b[49m\u001b[43mstage_arg\u001b[49m\u001b[43m)\u001b[49m\n\u001b[1;32m    219\u001b[0m \u001b[38;5;28;01melse\u001b[39;00m:\n\u001b[1;32m    220\u001b[0m     \u001b[38;5;28;01mif\u001b[39;00m incl_blockmatches:\n",
      "File \u001b[0;32m~/.conda/envs/DL/lib/python3.12/site-packages/bm4d/__init__.py:84\u001b[0m, in \u001b[0;36mbm4d_multichannel\u001b[0;34m(z, sigma_psd, profile, stage_arg)\u001b[0m\n\u001b[1;32m     81\u001b[0m full_denoi\u001b[38;5;241m.\u001b[39mappend(denoi)\n\u001b[1;32m     83\u001b[0m \u001b[38;5;28;01mfor\u001b[39;00m i \u001b[38;5;129;01min\u001b[39;00m \u001b[38;5;28mrange\u001b[39m(\u001b[38;5;241m1\u001b[39m, \u001b[38;5;28mlen\u001b[39m(z)):\n\u001b[0;32m---> 84\u001b[0m     denoi \u001b[38;5;241m=\u001b[39m \u001b[43mbm4d\u001b[49m\u001b[43m(\u001b[49m\u001b[43mz\u001b[49m\u001b[43m[\u001b[49m\u001b[43mi\u001b[49m\u001b[43m]\u001b[49m\u001b[43m,\u001b[49m\u001b[43m \u001b[49m\u001b[43mget_sigma\u001b[49m\u001b[43m(\u001b[49m\u001b[43mi\u001b[49m\u001b[43m)\u001b[49m\u001b[43m,\u001b[49m\u001b[43m \u001b[49m\u001b[43mprofile\u001b[49m\u001b[43m,\u001b[49m\u001b[43m \u001b[49m\u001b[43mstage_arg\u001b[49m\u001b[43m,\u001b[49m\u001b[43m \u001b[49m\u001b[43mmatch_arrs\u001b[49m\u001b[43m)\u001b[49m\n\u001b[1;32m     85\u001b[0m     full_denoi\u001b[38;5;241m.\u001b[39mappend(denoi)\n\u001b[1;32m     87\u001b[0m \u001b[38;5;28;01mif\u001b[39;00m \u001b[38;5;28misinstance\u001b[39m(z, \u001b[38;5;28mlist\u001b[39m):\n",
      "File \u001b[0;32m~/.conda/envs/DL/lib/python3.12/site-packages/bm4d/__init__.py:217\u001b[0m, in \u001b[0;36mbm4d\u001b[0;34m(z, sigma_psd, profile, stage_arg, blockmatches)\u001b[0m\n\u001b[1;32m    213\u001b[0m t_forward, t_inverse, hadper_trans_single_den, \\\n\u001b[1;32m    214\u001b[0m     inverse_hadper_trans_single_den, wwin3d \u001b[38;5;241m=\u001b[39m _get_transforms(pro, \u001b[38;5;28;01mTrue\u001b[39;00m)\n\u001b[1;32m    216\u001b[0m \u001b[38;5;66;03m# Call the actual hard-thresholding step with the acquired parameters\u001b[39;00m\n\u001b[0;32m--> 217\u001b[0m y_hat, bm_out_ht \u001b[38;5;241m=\u001b[39m \u001b[43mht_fn\u001b[49m\u001b[43m(\u001b[49m\u001b[43mz\u001b[49m\u001b[43m,\u001b[49m\u001b[43m \u001b[49m\u001b[43mpsd_blur\u001b[49m\u001b[43m,\u001b[49m\u001b[43m \u001b[49m\u001b[43mpro\u001b[49m\u001b[43m,\u001b[49m\u001b[43m \u001b[49m\u001b[43mt_forward\u001b[49m\u001b[43m,\u001b[49m\u001b[43m \u001b[49m\u001b[43mt_inverse\u001b[49m\u001b[43m,\u001b[49m\u001b[43m \u001b[49m\u001b[43mqshifts\u001b[49m\u001b[43m,\u001b[49m\u001b[43m \u001b[49m\u001b[43mhadper_trans_single_den\u001b[49m\u001b[43m,\u001b[49m\n\u001b[1;32m    218\u001b[0m \u001b[43m                        \u001b[49m\u001b[43minverse_hadper_trans_single_den\u001b[49m\u001b[43m,\u001b[49m\u001b[43m \u001b[49m\u001b[43mwwin3d\u001b[49m\u001b[43m,\u001b[49m\u001b[43m \u001b[49m\u001b[43mblockmatches\u001b[49m\u001b[38;5;241;43m=\u001b[39;49m\u001b[43mbm_in_ht\u001b[49m\u001b[43m)\u001b[49m\n\u001b[1;32m    220\u001b[0m \u001b[38;5;66;03m# Residual denoising, HT\u001b[39;00m\n\u001b[1;32m    221\u001b[0m \u001b[38;5;28;01mif\u001b[39;00m pro\u001b[38;5;241m.\u001b[39mdenoise_residual:\n",
      "File \u001b[0;32m~/.conda/envs/DL/lib/python3.12/site-packages/bm4d/bm4d_ctypes.py:609\u001b[0m, in \u001b[0;36mbm4d_ht\u001b[0;34m(z, psd, pro, t_forward, t_inverse, qshifts, hadper_trans_single_den, inverse_hadper_trans_single_den, wwin3d, refilter, blockmatches)\u001b[0m\n\u001b[1;32m    606\u001b[0m c_psd \u001b[38;5;241m=\u001b[39m conv_to_array(np\u001b[38;5;241m.\u001b[39mascontiguousarray(psd\u001b[38;5;241m.\u001b[39mflatten(), dtype\u001b[38;5;241m=\u001b[39mnp\u001b[38;5;241m.\u001b[39mfloat32), ctype\u001b[38;5;241m=\u001b[39mctypes\u001b[38;5;241m.\u001b[39mc_float)\n\u001b[1;32m    607\u001b[0m c_est \u001b[38;5;241m=\u001b[39m conv_to_array(np\u001b[38;5;241m.\u001b[39mascontiguousarray(res\u001b[38;5;241m.\u001b[39mflatten(), dtype\u001b[38;5;241m=\u001b[39mnp\u001b[38;5;241m.\u001b[39mfloat32), ctype\u001b[38;5;241m=\u001b[39mctypes\u001b[38;5;241m.\u001b[39mc_float)\n\u001b[0;32m--> 609\u001b[0m \u001b[43mfunc_ht\u001b[49m\u001b[43m(\u001b[49m\u001b[43mc_z\u001b[49m\u001b[43m,\u001b[49m\u001b[43m \u001b[49m\u001b[43mc_psd\u001b[49m\u001b[43m,\u001b[49m\u001b[43m \u001b[49m\u001b[43mparams\u001b[49m\u001b[43m,\u001b[49m\u001b[43m \u001b[49m\u001b[43mtransforms\u001b[49m\u001b[43m,\u001b[49m\u001b[43m \u001b[49m\u001b[43mc_est\u001b[49m\u001b[43m,\u001b[49m\n\u001b[1;32m    610\u001b[0m \u001b[43m        \u001b[49m\u001b[43mctypes\u001b[49m\u001b[38;5;241;43m.\u001b[39;49m\u001b[43mbyref\u001b[49m\u001b[43m(\u001b[49m\u001b[43mmatchtables\u001b[49m\u001b[43m)\u001b[49m\u001b[43m \u001b[49m\u001b[38;5;28;43;01mif\u001b[39;49;00m\u001b[43m \u001b[49m\u001b[43mmatchtables\u001b[49m\u001b[43m \u001b[49m\u001b[38;5;129;43;01mis\u001b[39;49;00m\u001b[43m \u001b[49m\u001b[38;5;129;43;01mnot\u001b[39;49;00m\u001b[43m \u001b[49m\u001b[38;5;28;43;01mNone\u001b[39;49;00m\u001b[43m \u001b[49m\u001b[38;5;28;43;01melse\u001b[39;49;00m\u001b[43m \u001b[49m\u001b[43mmatchtables\u001b[49m\u001b[43m)\u001b[49m\n\u001b[1;32m    612\u001b[0m \u001b[38;5;28;01mfor\u001b[39;00m i \u001b[38;5;129;01min\u001b[39;00m \u001b[38;5;28mrange\u001b[39m(z_shape[\u001b[38;5;241m0\u001b[39m]):\n\u001b[1;32m    613\u001b[0m     \u001b[38;5;28;01mfor\u001b[39;00m j \u001b[38;5;129;01min\u001b[39;00m \u001b[38;5;28mrange\u001b[39m(z_shape[\u001b[38;5;241m1\u001b[39m]):\n",
      "\u001b[0;31mKeyboardInterrupt\u001b[0m: "
     ]
    }
   ],
   "source": [
    "bs_wieners = [8,16]\n",
    "bs_hts = [8,16]\n",
    "process_bm3d(type=\"Patch_Size\", bs_hts=bs_hts, bs_wieners=bs_wieners)"
   ]
  },
  {
   "cell_type": "code",
   "execution_count": null,
   "metadata": {},
   "outputs": [],
   "source": [
    "step_hts = [1]\n",
    "step_wieners = [1]\n",
    "process_bm3d(type=\"Step_size\", step_hts=step_hts, step_wieners=step_wieners)"
   ]
  },
  {
   "cell_type": "code",
   "execution_count": null,
   "metadata": {},
   "outputs": [],
   "source": [
    "step_hts = [5]\n",
    "step_wieners = [5]\n",
    "process_bm3d(type=\"Step_size_5\", step_hts=step_hts, step_wieners=step_wieners)"
   ]
  },
  {
   "cell_type": "code",
   "execution_count": null,
   "metadata": {},
   "outputs": [],
   "source": [
    "tau_matches= [1500,3000,4500]\n",
    "tau_match_wieners= [200,400,600]\n",
    "process_bm3d(type=\"Threshold_Hard_Wiener\", tau_matchs=tau_matches, tau_match_wieners=tau_match_wieners)"
   ]
  },
  {
   "cell_type": "code",
   "execution_count": null,
   "metadata": {},
   "outputs": [],
   "source": [
    "lambda_thr3ds=[2.0,2.7,3.3]\n",
    "gammas=[2.0,4.0]\n",
    "beta_wieners=[1.0,2.0,3.0]\n",
    "process_bm3d(type=\"others\", lambda_thr3ds=lambda_thr3ds, gammas=gammas, beta_wieners = beta_wieners)"
   ]
  }
 ],
 "metadata": {
  "kernelspec": {
   "display_name": "DL",
   "language": "python",
   "name": "python3"
  },
  "language_info": {
   "codemirror_mode": {
    "name": "ipython",
    "version": 3
   },
   "file_extension": ".py",
   "mimetype": "text/x-python",
   "name": "python",
   "nbconvert_exporter": "python",
   "pygments_lexer": "ipython3",
   "version": "3.12.4"
  }
 },
 "nbformat": 4,
 "nbformat_minor": 2
}
