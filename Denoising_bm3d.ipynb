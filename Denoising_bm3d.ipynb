{
 "cells": [
  {
   "cell_type": "code",
   "execution_count": 1,
   "metadata": {},
   "outputs": [],
   "source": [
    "from bm3d import BM3DStages\n",
    "from Helper_modules import bm3d"
   ]
  },
  {
   "cell_type": "code",
   "execution_count": null,
   "metadata": {},
   "outputs": [],
   "source": [
    "%%capture\n",
    "dataset = \"leech\"               # \"leech\" or \"resTarget\" \n",
    "y = 16                          # Options:     15,16,17,18,19,20,21,22\n",
    "sigma = 5                     # Alternative :Integer btw. 1 to 50 is recommended\n",
    "stage = BM3DStages.ALL_STAGES   # Alternative :BM3DStages.HARD_THRESHOLDING \n",
    "results = bm3d.process_bm3d(\n",
    "    dataset,\n",
    "    y,sigma,stage,\n",
    "    transform_2d_ht=\"bior1.5\",   # or \"bior1.5\"\n",
    "    transform_2d_wiener = \"bior1.5\",   # or \"bior1.5\"\n",
    "    max_3d_size_ht=32,      # recommended: 16,32\n",
    "    max_3d_size_wiener=32,  # recommended: 16,32\n",
    "    bs_wiener=8,           # recommended: 8,16\n",
    "    bs_ht=8,               # recommended: 8,16          \n",
    "    step_wiener=3,         # recommended: 1,3,5,7\n",
    "    step_ht=3,\n",
    "    search_window_ht=39,   \n",
    "    search_window_wiener=39,\n",
    "    tau_match=1000,\n",
    "    tau_match_wiener=200,\n",
    "    lambda_thr3d=2.7,\n",
    "    gamma=2.0,\n",
    "    beta_wiener=2.0)\n",
    "\n",
    "\n",
    "computation_time, lpips_score, clipiqa_score, tv, snr_mean_db, noisy_img, denoised_img = results\n"
   ]
  },
  {
   "cell_type": "code",
   "execution_count": 3,
   "metadata": {},
   "outputs": [
    {
     "name": "stdout",
     "output_type": "stream",
     "text": [
      "Computation Time: 83.62981104850769\n",
      "LPIPS Score: 0.20669372379779816\n",
      "CLIP IQA Score: 0.5804191827774048\n",
      "TV: 14.142204284667969\n",
      "SNR Mean (dB): 6.210594269002288\n"
     ]
    }
   ],
   "source": [
    "print(f\"Computation Time: {computation_time}\")\n",
    "print(f\"LPIPS Score: {lpips_score}\")\n",
    "print(f\"CLIP IQA Score: {clipiqa_score}\")\n",
    "print(f\"TV: {tv}\")\n",
    "print(f\"SNR Mean (dB): {snr_mean_db}\")"
   ]
  },
  {
   "cell_type": "code",
   "execution_count": 4,
   "metadata": {},
   "outputs": [
    {
     "name": "stdout",
     "output_type": "stream",
     "text": [
      "Computation Time: 83.62981104850769\n",
      "LPIPS Score: 0.20669372379779816\n",
      "CLIP IQA Score: 0.5804191827774048\n",
      "TV: 14.142204284667969\n",
      "SNR Mean (dB): 6.210594269002288\n"
     ]
    }
   ],
   "source": [
    "print(f\"Computation Time: {computation_time}\")\n",
    "print(f\"LPIPS Score: {lpips_score}\")\n",
    "print(f\"CLIP IQA Score: {clipiqa_score}\")\n",
    "print(f\"TV: {tv}\")\n",
    "print(f\"SNR Mean (dB): {snr_mean_db}\")"
   ]
  }
 ],
 "metadata": {
  "kernelspec": {
   "display_name": "DL",
   "language": "python",
   "name": "python3"
  },
  "language_info": {
   "codemirror_mode": {
    "name": "ipython",
    "version": 3
   },
   "file_extension": ".py",
   "mimetype": "text/x-python",
   "name": "python",
   "nbconvert_exporter": "python",
   "pygments_lexer": "ipython3",
   "version": "3.12.4"
  }
 },
 "nbformat": 4,
 "nbformat_minor": 2
}
