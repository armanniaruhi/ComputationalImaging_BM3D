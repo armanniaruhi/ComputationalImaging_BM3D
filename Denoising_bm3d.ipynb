{
 "cells": [
  {
   "cell_type": "code",
   "execution_count": 2,
   "metadata": {},
   "outputs": [],
   "source": [
    "from bm3d import BM3DStages\n",
    "from Helper_modules import bm3d"
   ]
  },
  {
   "cell_type": "code",
   "execution_count": 3,
   "metadata": {},
   "outputs": [
    {
     "name": "stderr",
     "output_type": "stream",
     "text": [
      "/home/arman/.conda/envs/DL/lib/python3.12/site-packages/piq/utils/common.py:182: FutureWarning: You are using `torch.load` with `weights_only=False` (the current default value), which uses the default pickle module implicitly. It is possible to construct malicious pickle data which will execute arbitrary code during unpickling (See https://github.com/pytorch/pytorch/blob/main/SECURITY.md#untrusted-models for more details). In a future release, the default value for `weights_only` will be flipped to `True`. This limits the functions that could be executed during unpickling. Arbitrary objects will no longer be allowed to be loaded via this mode unless they are explicitly allowlisted by the user via `torch.serialization.add_safe_globals`. We recommend you start setting `weights_only=True` for any use case where you don't have full control of the loaded file. Please open an issue on GitHub for any issues related to this experimental feature.\n",
      "  return torch.load(download_target, map_location=map_location)\n",
      "/home/arman/.conda/envs/DL/lib/python3.12/site-packages/torchvision/models/_utils.py:208: UserWarning: The parameter 'pretrained' is deprecated since 0.13 and may be removed in the future, please use 'weights' instead.\n",
      "  warnings.warn(\n",
      "/home/arman/.conda/envs/DL/lib/python3.12/site-packages/torchvision/models/_utils.py:223: UserWarning: Arguments other than a weight enum or `None` for 'weights' are deprecated since 0.13 and may be removed in the future. The current behavior is equivalent to passing `weights=VGG16_Weights.IMAGENET1K_V1`. You can also use `weights=VGG16_Weights.DEFAULT` to get the most up-to-date weights.\n",
      "  warnings.warn(msg)\n",
      "/home/arman/.conda/envs/DL/lib/python3.12/site-packages/lpips/lpips.py:107: FutureWarning: You are using `torch.load` with `weights_only=False` (the current default value), which uses the default pickle module implicitly. It is possible to construct malicious pickle data which will execute arbitrary code during unpickling (See https://github.com/pytorch/pytorch/blob/main/SECURITY.md#untrusted-models for more details). In a future release, the default value for `weights_only` will be flipped to `True`. This limits the functions that could be executed during unpickling. Arbitrary objects will no longer be allowed to be loaded via this mode unless they are explicitly allowlisted by the user via `torch.serialization.add_safe_globals`. We recommend you start setting `weights_only=True` for any use case where you don't have full control of the loaded file. Please open an issue on GitHub for any issues related to this experimental feature.\n",
      "  self.load_state_dict(torch.load(model_path, map_location='cpu'), strict=False)\n"
     ]
    },
    {
     "name": "stdout",
     "output_type": "stream",
     "text": [
      "Computation Time: 62.33523607254028\n",
      "LPIPS Score: 0.21065157651901245\n",
      "CLIP IQA Score: 0.6111796498298645\n",
      "TV: 13.973812103271484\n",
      "SNR Mean (dB): 6.182154126855577\n"
     ]
    }
   ],
   "source": [
    "%%capture\n",
    "dataset = \"leech\"               # \"leech\" or \"resTarget\" \n",
    "y = 16                          # Options:     15,16,17,18,19,20,21,22\n",
    "sigma = 5                      # Alternative :Integer btw. 1 to 50 is recommended\n",
    "stage = BM3DStages.ALL_STAGES   # Alternative :BM3DStages.HARD_THRESHOLDING \n",
    "results = bm3d.process_bm3d(\n",
    "    dataset,\n",
    "    y,sigma,stage,\n",
    "    transform_2d_ht=\"dct\",   # or \"bior1.5\"\n",
    "    transform_2d_wiener = \"dct\",   # or \"bior1.5\"\n",
    "    max_3d_size_ht=32,      # recommended: 16,32\n",
    "    max_3d_size_wiener=32,  # recommended: 16,32\n",
    "    bs_wiener=8,           # recommended: 8,16\n",
    "    bs_ht=8,               # recommended: 8,16          \n",
    "    step_wiener=3,         # recommended: 1,3,5,7\n",
    "    search_window_ht=39,   \n",
    "    search_window_wiener=39,\n",
    "    step_ht=3,\n",
    "    tau_match=3000,\n",
    "    tau_match_wiener=400,\n",
    "    lambda_thr3d=2.7,\n",
    "    gamma=2.0,\n",
    "    beta_wiener=2.0)\n",
    "\n",
    "\n",
    "computation_time, lpips_score, clipiqa_score, tv, snr_mean_db, noisy_img, denoised_img = results\n"
   ]
  },
  {
   "cell_type": "code",
   "execution_count": null,
   "metadata": {},
   "outputs": [],
   "source": [
    "print(f\"Computation Time: {computation_time}\")\n",
    "print(f\"LPIPS Score: {lpips_score}\")\n",
    "print(f\"CLIP IQA Score: {clipiqa_score}\")\n",
    "print(f\"TV: {tv}\")\n",
    "print(f\"SNR Mean (dB): {snr_mean_db}\")"
   ]
  }
 ],
 "metadata": {
  "kernelspec": {
   "display_name": "DL",
   "language": "python",
   "name": "python3"
  },
  "language_info": {
   "codemirror_mode": {
    "name": "ipython",
    "version": 3
   },
   "file_extension": ".py",
   "mimetype": "text/x-python",
   "name": "python",
   "nbconvert_exporter": "python",
   "pygments_lexer": "ipython3",
   "version": "3.12.4"
  }
 },
 "nbformat": 4,
 "nbformat_minor": 2
}
